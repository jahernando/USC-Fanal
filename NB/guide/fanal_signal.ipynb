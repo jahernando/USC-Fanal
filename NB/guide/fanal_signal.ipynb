{
 "cells": [
  {
   "cell_type": "markdown",
   "metadata": {},
   "source": [
    "# Fanal\n",
    "\n",
    "## A neutrino-less beta decay experiment \n",
    "\n",
    "## An open exercise\n",
    "\n",
    "##  Signal Estimation \n",
    "\n",
    "### USC, Master de Física, Física de Partícula II\n",
    "\n",
    "\n",
    "J. A. Hernando-Morata, with the help of J. Muñoz, J. M. Benlloch, B. Palmeiro, G. Díaz\n",
    "\n",
    "February 2021\n"
   ]
  },
  {
   "cell_type": "code",
   "execution_count": 1,
   "metadata": {},
   "outputs": [],
   "source": [
    "%matplotlib inline\n",
    "\n",
    "%load_ext autoreload\n",
    "%autoreload 2"
   ]
  },
  {
   "cell_type": "markdown",
   "metadata": {},
   "source": [
    "#### Importing modules"
   ]
  },
  {
   "cell_type": "code",
   "execution_count": 2,
   "metadata": {},
   "outputs": [],
   "source": [
    "import numpy  as np\n",
    "import tables as tb\n",
    "import pandas as pd\n",
    "import matplotlib.pyplot as plt\n",
    "\n",
    "import scipy.constants as constants\n",
    "import scipy.stats     as stats\n",
    "import scipy.optimize  as optimize\n",
    "\n",
    "import warnings\n",
    "warnings.filterwarnings('ignore')"
   ]
  },
  {
   "cell_type": "code",
   "execution_count": 3,
   "metadata": {},
   "outputs": [
    {
     "name": "stdout",
     "output_type": "stream",
     "text": [
      "add path to PYTHONPATH :  /Users/hernando/docencia/master/Fisica_Particulas/USC-Fanal\n"
     ]
    }
   ],
   "source": [
    "# REMEMBER TO ADD THE FOLDER TO PYTHONPATH\n",
    "import os\n",
    "import sys\n",
    "dirpath = os.getcwd()[:-9]\n",
    "print('add path to PYTHONPATH : ', dirpath)\n",
    "sys.path.insert(0, os.path.abspath(dirpath))"
   ]
  },
  {
   "cell_type": "code",
   "execution_count": 4,
   "metadata": {},
   "outputs": [],
   "source": [
    "import core.pltext as pltext\n",
    "import core.utils  as ut\n",
    "\n",
    "import ana.fanal  as fn\n",
    "\n",
    "pltext.style()"
   ]
  },
  {
   "cell_type": "markdown",
   "metadata": {},
   "source": [
    "## Indications\n",
    "\n",
    "### Objective:\n",
    "\n",
    "**Validate the method to compute the number of signal events**.\n",
    "\n",
    "### Tasks\n",
    "\n",
    "   * Open the data file (HDF) and access the simulated data (MC) of 214Bi, 208Tl and bb0nu. \n",
    "\n",
    "   * Generate experiments with a given number of signal events and a level of background compatible with the one estimated using the blind-data sample (in previous task).\n",
    "\n",
    "   * Ensure that the estimation of your signal is correct in different signal scenarios.\n",
    "\n",
    "   * Try to estimate the uncertainties on the number of signal events.\n",
    "\n",
    "   * Estimate the half-life for different number signal scenarios."
   ]
  },
  {
   "cell_type": "markdown",
   "metadata": {},
   "source": [
    "## Notes\n",
    "\n",
    "  * To valide a fit, usually we generate a large number of experiments with known true parameters; estimate the parameters, and study their distributions.\n",
    "  \n",
    "  * In the case of 'gaussian' limits, these distributions are gaussian, centered in the true value of the parameters and their standard deviations are the uncertentities of the parameters.\n"
   ]
  },
  {
   "cell_type": "markdown",
   "metadata": {},
   "source": [
    "### The evil is in the details:\n",
    "\n",
    "Here we are going to generate n-experiments with the number background events compatible with the values obtained using the blind-data (previous section) and several scenarios of possible number of signal events.\n",
    "\n",
    "We aply the selection to each experiment data. Here we use the fanal selection, except that we do not apply the last cut, the refined energy region (RoI). Then we fit the energy distribution of the selected data to a combined PDF obtained from the three MC samples (bb0nu, Bi, Tl) in which we have previously applied the selection. \n",
    "\n",
    "A trick has been used: as the blob-energy and the event energy are uncorrelated, we have used  the event energy distributions obtained before the blob-energy cut as templates for the PDFs. If we have a large MC statistics we do not need this trick.\n",
    "\n"
   ]
  },
  {
   "cell_type": "markdown",
   "metadata": {},
   "source": [
    "## Access the data"
   ]
  },
  {
   "cell_type": "code",
   "execution_count": 5,
   "metadata": {},
   "outputs": [],
   "source": [
    "#dirpath = '/Users/hernando/docencia/master/Fisica_Particulas/USC-Fanal/data/'"
   ]
  },
  {
   "cell_type": "code",
   "execution_count": 6,
   "metadata": {},
   "outputs": [
    {
     "name": "stdout",
     "output_type": "stream",
     "text": [
      "Data :  /Users/hernando/docencia/master/Fisica_Particulas/USC-Fanal/data/alpha.h5\n"
     ]
    }
   ],
   "source": [
    "filename = '/data/alpha.h5'\n",
    "print('Data : ', dirpath + filename)\n",
    "\n",
    "mcbi = pd.read_hdf(dirpath + filename, key = 'mc/bi214')\n",
    "mctl = pd.read_hdf(dirpath + filename, key = 'mc/tl208')\n",
    "mcbb = pd.read_hdf(dirpath + filename, key = 'mc/bb0nu')"
   ]
  },
  {
   "cell_type": "code",
   "execution_count": 7,
   "metadata": {},
   "outputs": [],
   "source": [
    "samples  = ['bb0nu', 'Bi', 'Tl']\n",
    "ssamples = [r'$\\beta\\beta0\\nu$', r'$^{214}$Bi', r'$^{208}$Tl']\n",
    "mcs      = [mcbb, mcbi, mctl]"
   ]
  },
  {
   "cell_type": "code",
   "execution_count": 8,
   "metadata": {},
   "outputs": [],
   "source": [
    "erange     = (2.400, 2.650)\n",
    "eroi       = (2.440, 2.475)\n",
    "keys       = ['E', 'num_tracks', 'blob2_E', 'RoI']\n",
    "varnames   = ['E', 'num_tracks', 'blob2_E', 'E']\n",
    "varranges  = [erange, (1., 1.1), (0.4, np.inf), eroi]"
   ]
  },
  {
   "cell_type": "markdown",
   "metadata": {},
   "source": [
    "## Generate a MC experiment\n",
    "\n",
    "### Estimate the number of events"
   ]
  },
  {
   "cell_type": "code",
   "execution_count": 9,
   "metadata": {},
   "outputs": [
    {
     "name": "stdout",
     "output_type": "stream",
     "text": [
      "Total number of events : bb0nu \t  188.6, Bi \t 1424.0, Tl \t 1943.0,\n"
     ]
    }
   ],
   "source": [
    "eff_bb_roi = 0.53027\n",
    "\n",
    "nbb_roi = 100\n",
    "nbi     = 1424\n",
    "ntl     = 1943\n",
    "\n",
    "def nevents(nbb_roi, nbi, ntl, eff_bb_roi = eff_bb_roi):\n",
    "    nevts  = [nbb_roi/eff_bb_roi, nbi, ntl]\n",
    "    return nevts\n",
    "\n",
    "nevts   = nevents(nbb_roi, nbi, ntl)\n",
    "print('Total number of events :', *['{:s} \\t {:6.1f},'.format(s, ni) for s, ni in zip(samples, nevts)])"
   ]
  },
  {
   "cell_type": "markdown",
   "metadata": {},
   "source": [
    "### Generate MC experiment"
   ]
  },
  {
   "cell_type": "code",
   "execution_count": 10,
   "metadata": {},
   "outputs": [],
   "source": [
    "mdat = fn.generate_mc_experiment(mcs, nevts)"
   ]
  },
  {
   "cell_type": "markdown",
   "metadata": {},
   "source": [
    "### The energy PDF distributions for each MC sample after selection"
   ]
  },
  {
   "cell_type": "code",
   "execution_count": 11,
   "metadata": {},
   "outputs": [
    {
     "data": {
      "image/png": "[encoded data removed]",
      "text/plain": [
       "<Figure size 432x288 with 1 Axes>"
      ]
     },
     "metadata": {
      "needs_background": "light"
     },
     "output_type": "display_data"
    }
   ],
   "source": [
    "bins     = 100\n",
    "vnames   = ['E', 'num_tracks', 'blob2_E']\n",
    "vranges  = [(2.400, 2.650), (1., 1.1), (0.4, np.inf)]\n",
    "level_mc = 1 # MC level selction E in range & 1 track \n",
    "\n",
    "sels = [ut.selections(mc, vnames, vranges) for mc  in mcs]\n",
    "tmcs = [mc[sel[level_mc]]                  for mc, sel in zip(mcs, sels)]\n",
    "\n",
    "varname  = 'E'\n",
    "varrange = vranges[0] # E-range \n",
    "pdfs = [stats.rv_histogram(np.histogram(mc[varname], bins, range = varrange)) for mc in mcs]\n",
    "\n",
    "xs   = np.linspace(*varrange, bins)\n",
    "for i, pdf in enumerate(pdfs): \n",
    "    plt.plot(xs, pdf.pdf(xs), label = ssamples[i])\n",
    "plt.grid(); plt.legend(); \n",
    "plt.xlabel('E (MeV)'); plt.title('PDFs');"
   ]
  },
  {
   "cell_type": "markdown",
   "metadata": {},
   "source": [
    "## Fit to the 3 samples: estimate the number of signal events"
   ]
  },
  {
   "cell_type": "markdown",
   "metadata": {},
   "source": [
    "\n",
    " The *ana_experiment* in the *fanal* module does the analysis:\n",
    " \n",
    "  1. Selects the data and the MC-samples. It uses fanal selection (E-range, 1-track, blob2 > 0.4 MeV).\n",
    "  \n",
    "  2. Creates the Composide PDF with the MC-selected samples for the energy.\n",
    "  \n",
    "  3. Fits the energy of selected data to the composite PDF.\n",
    "  \n",
    "  4. Returns the fit results, the energy values, the ExtComPDF object, and the efficiencies of the selection in MC \n",
    "\n"
   ]
  },
  {
   "cell_type": "code",
   "execution_count": 12,
   "metadata": {},
   "outputs": [
    {
     "name": "stdout",
     "output_type": "stream",
     "text": [
      "number estimated events : bb0nu \t 107.50, Bi \t  13.81, Tl \t  12.69,\n",
      "number expected  events : bb0nu \t 100.15, Bi \t  25.11, Tl \t  14.77,\n",
      "133.99951337604548 140.02271385855843 134\n"
     ]
    },
    {
     "data": {
      "image/png": "[encoded data removed]",
      "text/plain": [
       "<Figure size 720x576 with 2 Axes>"
      ]
     },
     "metadata": {
      "needs_background": "light"
     },
     "output_type": "display_data"
    }
   ],
   "source": [
    "#  do the analysis\n",
    "res, ene, ell, effs = fn.ana_experiment(mdat, mcs, nevts)\n",
    "ns_est = res.x \n",
    "ns_exp = [ni * eff[0] for ni, eff in zip(nevts, effs)]\n",
    "names   = ['bb0nu', 'Bi', 'Tl']\n",
    "print('number estimated events :', *['{:s} \\t {:6.2f},'.format(s, ni) for s, ni in zip(samples, ns_est)])\n",
    "print('number expected  events :', *['{:s} \\t {:6.2f},'.format(s, ni) for s, ni in zip(samples, ns_exp)])\n",
    "fn.plot_fit_ell(ene, ns_est, ell.pdf)\n",
    "print(np.sum(ns_est), np.sum(ns_exp), len(ene))"
   ]
  },
  {
   "cell_type": "markdown",
   "metadata": {},
   "source": [
    "### Generate n-experiments in different signal scenarios.\n",
    "\n",
    "Generate n-experiments (1000) with different 0bbnu events, for example 100, 10, 2 events in the RoI. \n",
    "\n",
    "Be careful with the case of very few bb0nu events in the RoI.\n",
    "\n",
    "Get the distribution of the estimated number of events. \n",
    "\n",
    "Estimate the number of events uncertainties for each scenario"
   ]
  },
  {
   "cell_type": "code",
   "execution_count": 13,
   "metadata": {},
   "outputs": [],
   "source": [
    "def experiments(size, nevts, mcs, ssamples = ssamples, plot = True):\n",
    "            \n",
    "    mevts  = []\n",
    "    ns_exp = []\n",
    "    for i in range(size):\n",
    "        mdat             = fn.generate_mc_experiment(mcs, nevts)\n",
    "        res, _, _, effs  = fn.ana_experiment(mdat, mcs, nevts)\n",
    "        if (i == 0):\n",
    "            ns_exp = [ni * eff[0] for ni, eff in zip(nevts, effs)]\n",
    "            print('expected events ', ns_exp)\n",
    "        if (res.success == True):\n",
    "            mevts.append(res.x)\n",
    "            \n",
    "    def _plot():\n",
    "        subplot = pltext.canvas(4)\n",
    "        for i in range(3):\n",
    "            subplot(i + 1)\n",
    "            nn = [m[i] for m in mevts]\n",
    "            nm = ns_exp[i]\n",
    "            pltext.hist(nn, 100, label = r'n = {:6.2f}'.format(nm));\n",
    "            plt.xlabel('number events');\n",
    "            plt.title(ssamples[i])\n",
    "        plt.tight_layout()\n",
    "\n",
    "    if (plot): _plot()\n",
    "            \n",
    "    return mevts, ns_exp    "
   ]
  },
  {
   "cell_type": "code",
   "execution_count": 14,
   "metadata": {
    "scrolled": false
   },
   "outputs": [
    {
     "name": "stdout",
     "output_type": "stream",
     "text": [
      "expected events  [100.14604719189177, 25.10986666666667, 14.7668]\n"
     ]
    },
    {
     "data": {
      "image/png": "[encoded data removed]",
      "text/plain": [
       "<Figure size 864x720 with 3 Axes>"
      ]
     },
     "metadata": {
      "needs_background": "light"
     },
     "output_type": "display_data"
    }
   ],
   "source": [
    "size    = 1000\n",
    "nbb_roi = 100\n",
    "nevts = nevents(nbb_roi, nbi, ntl)\n",
    "\n",
    "mevts, ns_exp = experiments(size, nevts, mcs)"
   ]
  },
  {
   "cell_type": "code",
   "execution_count": null,
   "metadata": {},
   "outputs": [
    {
     "name": "stdout",
     "output_type": "stream",
     "text": [
      "expected events  [10.014604719189176, 25.10986666666667, 14.7668]\n"
     ]
    }
   ],
   "source": [
    "size    = 1000\n",
    "nbb_roi = 10\n",
    "nevts = nevents(nbb_roi, nbi, ntl)\n",
    "\n",
    "mevts, ns_exp = experiments(size, nevts, mcs)"
   ]
  },
  {
   "cell_type": "code",
   "execution_count": null,
   "metadata": {},
   "outputs": [],
   "source": [
    "size    = 1000\n",
    "nbb_roi = 2\n",
    "nevts = nevents(nbb_roi, nbi, ntl)\n",
    "\n",
    "mevts, ns_exp = experiments(size, nevts, mcs)"
   ]
  },
  {
   "cell_type": "markdown",
   "metadata": {},
   "source": [
    "## Estimate the half-time"
   ]
  },
  {
   "cell_type": "code",
   "execution_count": null,
   "metadata": {},
   "outputs": [],
   "source": [
    "erange     = (2.400, 2.650)\n",
    "eroi       = (2.440, 2.475)\n",
    "keys       = ['E', 'num_tracks', 'blob2_E', 'RoI']\n",
    "varnames   = ['E', 'num_tracks', 'blob2_E', 'E']\n",
    "varranges  = [erange, (1., 1.1), (0.4, np.inf), eroi]\n",
    "\n",
    "exposure   = 500 # kg y\n",
    "# get the final selection\n",
    "sel        = ut.selections(mcbb, varnames, varranges)[-1] \n",
    "# comptue the efficiency\n",
    "eff, ueff  = ut.efficiency(sel) \n",
    "\n",
    "nbb = 10\n",
    "tau  = fn.half_life(nbb, exposure, eff)\n",
    "\n",
    "print('number of bb0nu events : ', nbb)\n",
    "print('exposure               : ', exposure, ' kg y')\n",
    "print('signal efficiency      : {:6.3f} +- {:6.3f}'.format(eff, ueff))\n",
    "print('bb0nu half-life        :  {:6.2e} y '.format(tau))\n",
    "\n",
    "#TODO: uncertainties"
   ]
  },
  {
   "cell_type": "code",
   "execution_count": null,
   "metadata": {},
   "outputs": [],
   "source": []
  }
 ],
 "metadata": {
  "kernelspec": {
   "display_name": "Python 3",
   "language": "python",
   "name": "python3"
  },
  "language_info": {
   "codemirror_mode": {
    "name": "ipython",
    "version": 3
   },
   "file_extension": ".py",
   "mimetype": "text/x-python",
   "name": "python",
   "nbconvert_exporter": "python",
   "pygments_lexer": "ipython3",
   "version": "3.7.9"
  }
 },
 "nbformat": 4,
 "nbformat_minor": 2
}
