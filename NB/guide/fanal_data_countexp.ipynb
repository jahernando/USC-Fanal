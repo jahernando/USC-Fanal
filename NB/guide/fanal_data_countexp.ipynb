{
 "cells": [
  {
   "cell_type": "markdown",
   "metadata": {},
   "source": [
    "# Fanal, a neutrino-less beta decay experiment \n",
    "\n",
    "## An open exercise\n",
    "\n",
    "### Signal Estimation from data - Counting Experiment\n",
    "\n",
    "#### USC, Master de Física, Física de Partículas II\n",
    "\n",
    "\n",
    "J. A. Hernando-Morata, with the help of J. Muñoz, J. M. Benlloch, B. Palmeiro, G. Díaz.\n",
    "\n",
    "February 2021"
   ]
  },
  {
   "cell_type": "code",
   "execution_count": 1,
   "metadata": {},
   "outputs": [],
   "source": [
    "%matplotlib inline\n",
    "\n",
    "%load_ext autoreload\n",
    "%autoreload 2"
   ]
  },
  {
   "cell_type": "markdown",
   "metadata": {},
   "source": [
    "#### Importing modules"
   ]
  },
  {
   "cell_type": "code",
   "execution_count": 2,
   "metadata": {},
   "outputs": [],
   "source": [
    "import numpy  as np\n",
    "import tables as tb\n",
    "import pandas as pd\n",
    "import matplotlib.pyplot as plt\n",
    "\n",
    "import scipy.constants as constants\n",
    "import scipy.stats     as stats\n",
    "import scipy.optimize  as optimize\n",
    "\n",
    "import warnings\n",
    "warnings.filterwarnings('ignore')"
   ]
  },
  {
   "cell_type": "code",
   "execution_count": 3,
   "metadata": {},
   "outputs": [
    {
     "name": "stdout",
     "output_type": "stream",
     "text": [
      "add path to PYTHONPATH :  /Users/hernando/work/docencia/master/Fisica_Particulas/USC-Fanal\n"
     ]
    }
   ],
   "source": [
    "# REMEMBER TO ADD your Fanal FOLDER TO PYTHONPATH\n",
    "import os\n",
    "import sys\n",
    "dirpath = os.getcwd()[:-9]\n",
    "print('add path to PYTHONPATH : ', dirpath)\n",
    "sys.path.insert(0, os.path.abspath(dirpath))"
   ]
  },
  {
   "cell_type": "code",
   "execution_count": 4,
   "metadata": {},
   "outputs": [],
   "source": [
    "import core.pltext  as pltext   # extensions for plotting histograms\n",
    "import core.hfit    as hfit     # extension to fit histograms\n",
    "import core.efit    as efit     # Fit Utilites - Includes Extend Likelihood Fit with composite PDFs\n",
    "import core.utils   as ut       # generic utilities\n",
    "import ana.fanal    as fn       # analysis functions specific to fanal\n",
    "import     collpars as collpars # collaboration specific parameters\n",
    "pltext.style()"
   ]
  },
  {
   "cell_type": "markdown",
   "metadata": {},
   "source": [
    "## Indications\n",
    "\n",
    "### Goal\n",
    "\n",
    "  **Estimate the number of signal events in data. Estimate the half-life value**.\n",
    "\n",
    "### Indications\n",
    "\n",
    "   * Get the data\n",
    "   \n",
    "   * Count the number of events in RoI compared with the Bkg estimation \n",
    "   \n",
    "   * Measure the half-life.\n",
    "   "
   ]
  },
  {
   "cell_type": "markdown",
   "metadata": {},
   "source": [
    "## Main Parameters"
   ]
  },
  {
   "cell_type": "code",
   "execution_count": 5,
   "metadata": {},
   "outputs": [
    {
     "name": "stdout",
     "output_type": "stream",
     "text": [
      "Data From               : test_alpha\n",
      "Energy range            : ( 2.400,  2.700) MeV\n",
      "Blob-2 energy threshold :  0.400 MeV\n",
      "Energy RoI range        : ( 2.430,  2.480) MeV\n"
     ]
    }
   ],
   "source": [
    "coll   = 'test_alpha'\n",
    "erange = fn.erange\n",
    "eroi   = fn.eroi \n",
    "eblob2 = fn.eblob2\n",
    "\n",
    "print('Data From               : {:s}'.format(coll))\n",
    "print('Energy range            : ({:6.3f}, {:6.3f}) MeV'.format(*erange))\n",
    "print('Blob-2 energy threshold : {:6.3f} MeV'.format(eblob2))\n",
    "print('Energy RoI range        : ({:6.3f}, {:6.3f}) MeV'.format(*eroi))"
   ]
  },
  {
   "cell_type": "code",
   "execution_count": 6,
   "metadata": {},
   "outputs": [
    {
     "name": "stdout",
     "output_type": "stream",
     "text": [
      "Number Bi events in RoI =  2.291 +-  0.282\n",
      "Number Tl events in RoI =  0.216 +-  0.004\n"
     ]
    }
   ],
   "source": [
    "nevts_Bi_RoI  = collpars.nevts_Bi_RoI\n",
    "nevts_Tl_RoI  = collpars.nevts_Tl_RoI\n",
    "unevts_Bi_RoI = collpars.unevts_Bi_RoI\n",
    "unevts_Tl_RoI = collpars.unevts_Tl_RoI\n",
    "\n",
    "print('Number Bi events in RoI = {:6.3f} +- {:6.3f}'.format(nevts_Bi_RoI, unevts_Bi_RoI))\n",
    "print('Number Tl events in RoI = {:6.3f} +- {:6.3f}'.format(nevts_Tl_RoI, unevts_Tl_RoI))"
   ]
  },
  {
   "cell_type": "markdown",
   "metadata": {},
   "source": [
    "## Access the data"
   ]
  },
  {
   "cell_type": "code",
   "execution_count": 7,
   "metadata": {},
   "outputs": [],
   "source": [
    "#dirpath = '/Users/hernando/docencia/master/Fisica_Particulas/USC-Fanal/data/'"
   ]
  },
  {
   "cell_type": "code",
   "execution_count": 8,
   "metadata": {},
   "outputs": [
    {
     "name": "stdout",
     "output_type": "stream",
     "text": [
      "Data :  /Users/hernando/work/docencia/master/Fisica_Particulas/USC-Fanal/data/fanal_test_alpha.h5\n"
     ]
    }
   ],
   "source": [
    "filename = '/data/fanal_'+ coll + '.h5'\n",
    "print('Data : ', dirpath + filename)\n",
    "\n",
    "mcbi = pd.read_hdf(dirpath + filename, key = 'mc/bi214')\n",
    "mctl = pd.read_hdf(dirpath + filename, key = 'mc/tl208')\n",
    "\n",
    "datab = pd.read_hdf(dirpath + filename, key = 'data/blind')\n",
    "datar = pd.read_hdf(dirpath + filename, key = 'data/roi')\n",
    "data  = pd.concat((datab, datar)) # concatenate blind and roi-data into one data DF"
   ]
  },
  {
   "cell_type": "code",
   "execution_count": 9,
   "metadata": {},
   "outputs": [],
   "source": [
    "varnames   = ['E', 'num_tracks', 'blob2_E', 'E']\n",
    "varranges  = [erange, (1., 1.1), (eblob2, np.inf), eroi]\n",
    "sel        = fn.selection(data, varnames, varranges)"
   ]
  },
  {
   "cell_type": "code",
   "execution_count": 10,
   "metadata": {},
   "outputs": [],
   "source": [
    "def plt_fanal(data, sel, mcs, nbkgs, nbins = 20):\n",
    "    ranges = {'E' : eroi, 'blob2_E': (eblob2, 1.)}\n",
    "    def _plot(varname):\n",
    "        labels = [r\"$^{214}$Bi\", r\"$^{108}$Tl\"]\n",
    "        counts, bins = np.histogram(data[sel][varname], nbins, range = ranges[varname])\n",
    "        cbins = 0.5 * (bins[1:] + bins[:-1])\n",
    "        esel  = counts > 0\n",
    "        ecounts = np.sqrt(counts)\n",
    "        plt.errorbar(cbins[esel], counts[esel], yerr = ecounts[esel], marker = 'o', ls = '', label = 'data');\n",
    "        i = 0\n",
    "        for n, mc in zip(nbkgs, mcs):\n",
    "            ucounts, _   = np.histogram(mc[varname], bins)\n",
    "            ucounts      = n * ucounts/np.sum(ucounts)\n",
    "            plt.plot(cbins, ucounts, label = labels[i]);\n",
    "            ++i\n",
    "        plt.grid(); plt.title(varname), plt.legend(); \n",
    "        plt.xlabel('Energy (MeV)'); plt.ylabel('counts')\n",
    "        \n",
    "    subplot = pltext.canvas(2)\n",
    "    subplot(1); _plot('E')\n",
    "    subplot(2); _plot('blob2_E')"
   ]
  },
  {
   "cell_type": "code",
   "execution_count": 11,
   "metadata": {},
   "outputs": [
    {
     "data": {
      "image/png": "[encoded data removed]",
      "text/plain": [
       "<Figure size 864x360 with 2 Axes>"
      ]
     },
     "metadata": {
      "needs_background": "light"
     },
     "output_type": "display_data"
    }
   ],
   "source": [
    "nbkgs = (nevts_Bi_RoI, nevts_Tl_RoI)\n",
    "nevts_bkg_RoI = np.sum(nbkgs) \n",
    "mcs   = (mcbi, mctl)\n",
    "plt_fanal(data, sel, mcs, nbkgs, 10)"
   ]
  },
  {
   "cell_type": "code",
   "execution_count": 12,
   "metadata": {},
   "outputs": [
    {
     "name": "stdout",
     "output_type": "stream",
     "text": [
      "Number of observed events in RoI     : 6\n",
      "Number of expected bkg events in RoI : 2.5070\n",
      "Best estimation of the signal in RoI : 3.4930\n"
     ]
    }
   ],
   "source": [
    "nevts_RoI    = np.sum(sel)\n",
    "nevts_bb_RoI = nevts_RoI - nevts_bkg_RoI if nevts_RoI > nevts_bkg_RoI else 0\n",
    "print('Number of observed events in RoI     : {:d}'.format(nevts_RoI))\n",
    "print('Number of expected bkg events in RoI : {:6.4f}'.format(nevts_bkg_RoI))\n",
    "print('Best estimation of the signal in RoI : {:6.4f}'.format(nevts_bb_RoI))"
   ]
  },
  {
   "cell_type": "markdown",
   "metadata": {},
   "source": [
    "## Estimate the bb0nu half-life"
   ]
  },
  {
   "cell_type": "code",
   "execution_count": 13,
   "metadata": {},
   "outputs": [
    {
     "name": "stdout",
     "output_type": "stream",
     "text": [
      "number of bb0nu events  :  3.493\n",
      "exposure                : 500.00 kg y\n",
      "total signal efficiency :  0.412\n",
      "bb0nu half-life         : 1.63e+26 y \n"
     ]
    }
   ],
   "source": [
    "acc_bb     = 0.794\n",
    "eff_bb_RoI = collpars.eff_bb_RoI\n",
    "exposure   = collpars.exposure\n",
    "eff        = acc_bb * eff_bb_RoI\n",
    "tau        = fn.half_life(nevts_bb_RoI, exposure, eff)\n",
    "\n",
    "print('number of bb0nu events  : {:6.3f}'.format(nevts_bb_RoI))\n",
    "print('exposure                : {:6.2f} kg y'.format(exposure))\n",
    "print('total signal efficiency : {:6.3f}'.format(eff))\n",
    "print('bb0nu half-life         : {:6.2e} y '.format(tau))\n",
    "#TODO: uncertainties"
   ]
  },
  {
   "cell_type": "markdown",
   "metadata": {},
   "source": [
    "## Write Out"
   ]
  },
  {
   "cell_type": "code",
   "execution_count": 14,
   "metadata": {},
   "outputs": [],
   "source": [
    "write = True\n",
    "\n",
    "if (write):\n",
    "    of = open('collpars.py', 'a')\n",
    "    of.write('acc_bb          = {:6.3f}'.format(acc_bb)+'\\n')\n",
    "    of.write('nevts_RoI       = {:6.3f}'.format(nevts_RoI)   +'\\n')\n",
    "    of.write('nevts_bb_RoI    = {:6.3f}'.format(nevts_bb_RoI)+'\\n')\n",
    "    of.write('tau             = {:1.3e}'.format(tau)+' # y \\n')\n",
    "    of.close()"
   ]
  },
  {
   "cell_type": "markdown",
   "metadata": {},
   "source": []
  }
 ],
 "metadata": {
  "kernelspec": {
   "display_name": "Python 3 (ipykernel)",
   "language": "python",
   "name": "python3"
  },
  "language_info": {
   "codemirror_mode": {
    "name": "ipython",
    "version": 3
   },
   "file_extension": ".py",
   "mimetype": "text/x-python",
   "name": "python",
   "nbconvert_exporter": "python",
   "pygments_lexer": "ipython3",
   "version": "3.7.11"
  }
 },
 "nbformat": 4,
 "nbformat_minor": 2
}
