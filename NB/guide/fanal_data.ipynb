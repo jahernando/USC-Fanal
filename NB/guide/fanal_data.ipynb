{
 "cells": [
  {
   "cell_type": "markdown",
   "metadata": {},
   "source": [
    "# Fanal, a neutrino-less beta decay experiment \n",
    "\n",
    "## An open exercise\n",
    "\n",
    "### Signal Estimation from data - Fitting\n",
    "\n",
    "#### USC, Master de Física, Física de Partículas II\n",
    "\n",
    "\n",
    "J. A. Hernando-Morata, with the help of J. Muñoz, J. M. Benlloch, B. Palmeiro, G. Díaz.\n",
    "\n",
    "February 2021"
   ]
  },
  {
   "cell_type": "code",
   "execution_count": 1,
   "metadata": {},
   "outputs": [],
   "source": [
    "%matplotlib inline\n",
    "\n",
    "%load_ext autoreload\n",
    "%autoreload 2"
   ]
  },
  {
   "cell_type": "markdown",
   "metadata": {},
   "source": [
    "#### Importing modules"
   ]
  },
  {
   "cell_type": "code",
   "execution_count": 2,
   "metadata": {},
   "outputs": [],
   "source": [
    "import numpy  as np\n",
    "import tables as tb\n",
    "import pandas as pd\n",
    "import matplotlib.pyplot as plt\n",
    "\n",
    "import scipy.constants as constants\n",
    "import scipy.stats     as stats\n",
    "import scipy.optimize  as optimize\n",
    "\n",
    "import warnings\n",
    "warnings.filterwarnings('ignore')"
   ]
  },
  {
   "cell_type": "code",
   "execution_count": 3,
   "metadata": {},
   "outputs": [
    {
     "name": "stdout",
     "output_type": "stream",
     "text": [
      "add path to PYTHONPATH :  /Users/hernando/work/docencia/master/Fisica_Particulas/USC-Fanal\n"
     ]
    }
   ],
   "source": [
    "# REMEMBER TO ADD your Fanal FOLDER TO PYTHONPATH\n",
    "import os\n",
    "import sys\n",
    "dirpath = os.getcwd()[:-9]\n",
    "print('add path to PYTHONPATH : ', dirpath)\n",
    "sys.path.insert(0, os.path.abspath(dirpath))"
   ]
  },
  {
   "cell_type": "code",
   "execution_count": 4,
   "metadata": {},
   "outputs": [],
   "source": [
    "import core.pltext  as pltext   # extensions for plotting histograms\n",
    "import core.hfit    as hfit     # extension to fit histograms\n",
    "import core.efit    as efit     # Fit Utilites - Includes Extend Likelihood Fit with composite PDFs\n",
    "import core.utils   as ut       # generic utilities\n",
    "import ana.fanal    as fn       # analysis functions specific to fanal\n",
    "import ana.collpars as collpars # collaboration specific parameters\n",
    "pltext.style()"
   ]
  },
  {
   "cell_type": "markdown",
   "metadata": {},
   "source": [
    "## Indications\n",
    "\n",
    "### Goal\n",
    "\n",
    "  **Estimate the number of signal events in data. Estimate the half-life value**.\n",
    "\n",
    "### Indications\n",
    "\n",
    "   * Get the data\n",
    "   \n",
    "   * Estimate the number of signal events (with the method validated in the previous notebook)\n",
    "   \n",
    "   * Measure the half-life.\n",
    "   \n",
    "   * Estimate also the uncertainties.\n"
   ]
  },
  {
   "cell_type": "markdown",
   "metadata": {},
   "source": [
    "## Main Parameters"
   ]
  },
  {
   "cell_type": "code",
   "execution_count": 5,
   "metadata": {},
   "outputs": [
    {
     "name": "stdout",
     "output_type": "stream",
     "text": [
      "Data From               : test_alpha\n",
      "Energy range            : ( 2.400,  2.700) MeV\n",
      "Blob-2 energy threshold :  0.400 MeV\n",
      "Energy RoI range        : ( 2.430,  2.480) MeV\n"
     ]
    }
   ],
   "source": [
    "coll   = 'test_alpha'\n",
    "erange = fn.erange\n",
    "eroi   = fn.eroi \n",
    "eblob2 = fn.eblob2\n",
    "\n",
    "print('Data From               : {:s}'.format(coll))\n",
    "print('Energy range            : ({:6.3f}, {:6.3f}) MeV'.format(*erange))\n",
    "print('Blob-2 energy threshold : {:6.3f} MeV'.format(eblob2))\n",
    "print('Energy RoI range        : ({:6.3f}, {:6.3f}) MeV'.format(*eroi))"
   ]
  },
  {
   "cell_type": "code",
   "execution_count": 6,
   "metadata": {},
   "outputs": [
    {
     "name": "stdout",
     "output_type": "stream",
     "text": [
      "Number Bi events in RoI =  2.290 +-  0.232\n",
      "Number Tl events in RoI =  0.220 +-  0.003\n"
     ]
    }
   ],
   "source": [
    "from ana.collpars import nevts_Bi_RoI, nevts_Tl_RoI\n",
    "\n",
    "print('Number Bi events in RoI = {:6.3f} +- {:6.3f}'.format(*nevts_Bi_RoI))\n",
    "print('Number Tl events in RoI = {:6.3f} +- {:6.3f}'.format(*nevts_Tl_RoI))"
   ]
  },
  {
   "cell_type": "markdown",
   "metadata": {},
   "source": [
    "## Access the data"
   ]
  },
  {
   "cell_type": "code",
   "execution_count": 7,
   "metadata": {},
   "outputs": [],
   "source": [
    "#dirpath = '/Users/hernando/docencia/master/Fisica_Particulas/USC-Fanal/data/'"
   ]
  },
  {
   "cell_type": "code",
   "execution_count": 8,
   "metadata": {},
   "outputs": [
    {
     "name": "stdout",
     "output_type": "stream",
     "text": [
      "Data :  /Users/hernando/work/docencia/master/Fisica_Particulas/USC-Fanal/data/fanal_test_alpha.h5\n"
     ]
    }
   ],
   "source": [
    "filename = '/data/fanal_' + coll +'.h5'\n",
    "print('Data : ', dirpath + filename)\n",
    "\n",
    "mcbi = pd.read_hdf(dirpath + filename, key = 'mc/bi214')\n",
    "mctl = pd.read_hdf(dirpath + filename, key = 'mc/tl208')\n",
    "mcbb = pd.read_hdf(dirpath + filename, key = 'mc/bb0nu')\n",
    "\n",
    "datab = pd.read_hdf(dirpath + filename, key = 'data/blind')\n",
    "datar = pd.read_hdf(dirpath + filename, key = 'data/roi')\n",
    "data  = pd.concat((datab, datar)) # concatenate blind and roi-data into one data DF"
   ]
  },
  {
   "cell_type": "code",
   "execution_count": 9,
   "metadata": {},
   "outputs": [],
   "source": [
    "samples  = ['bb0nu', 'Bi', 'Tl']\n",
    "ssamples = [r'$\\beta\\beta0\\nu$', r'$^{214}$Bi', r'$^{208}$Tl']\n",
    "mcs      = [mcbb, mcbi, mctl]"
   ]
  },
  {
   "cell_type": "code",
   "execution_count": 10,
   "metadata": {},
   "outputs": [],
   "source": [
    "varnames   = ['E', 'num_tracks', 'blob2_E']          # analysis variables\n",
    "varranges  = [erange, (1., 1.1), (eblob2, np.inf)]   # analysis variable ranges\n",
    "sel        = fn.selection(data, varnames, varranges) # analysis selection"
   ]
  },
  {
   "cell_type": "code",
   "execution_count": 11,
   "metadata": {},
   "outputs": [],
   "source": [
    "def plt_fanal(data, sel, nbins = 100):\n",
    "    \"\"\" Plot the relevant analysis variables, for the different mc samples\n",
    "    \"\"\"\n",
    "\n",
    "    subplot = pltext.canvas(2)\n",
    "\n",
    "    subplot(1)\n",
    "    _, bins, _ = pltext.hist(data[sel].E, nbins, label = 'data')\n",
    "    plt.xlabel('Energy (MeV)'); plt.title('E range');\n",
    "    \n",
    "    subplot(2)\n",
    "    pltext.hist(data[sel].blob2_E, nbins,  label = 'data')\n",
    "    plt.xlabel('Energy blob2 (MeV)'); plt.title('E range - 1 track')\n",
    "\n",
    "    plt.tight_layout();\n",
    "    return"
   ]
  },
  {
   "cell_type": "code",
   "execution_count": 12,
   "metadata": {},
   "outputs": [
    {
     "data": {
      "image/png": "[encoded data removed]",
      "text/plain": [
       "<Figure size 864x360 with 2 Axes>"
      ]
     },
     "metadata": {
      "needs_background": "light"
     },
     "output_type": "display_data"
    }
   ],
   "source": [
    "plt_fanal(data, sel)"
   ]
  },
  {
   "cell_type": "markdown",
   "metadata": {},
   "source": [
    "## Estimate the number of signal events"
   ]
  },
  {
   "cell_type": "markdown",
   "metadata": {},
   "source": [
    "### Estimate the number of expected events"
   ]
  },
  {
   "cell_type": "code",
   "execution_count": 13,
   "metadata": {},
   "outputs": [],
   "source": [
    "from ana.collpars import nevts_Bi, nevts_Tl"
   ]
  },
  {
   "cell_type": "markdown",
   "metadata": {},
   "source": [
    "## Estimate the number of events"
   ]
  },
  {
   "cell_type": "code",
   "execution_count": 14,
   "metadata": {},
   "outputs": [
    {
     "name": "stdout",
     "output_type": "stream",
     "text": [
      "estimated events :   4.24,   1.69,   9.07,\n",
      "expected  events :   5.19,   2.60,   8.13,\n"
     ]
    },
    {
     "data": {
      "image/png": "[encoded data removed]",
      "text/plain": [
       "<Figure size 720x576 with 2 Axes>"
      ]
     },
     "metadata": {
      "needs_background": "light"
     },
     "output_type": "display_data"
    }
   ],
   "source": [
    "nevts = (10, nevts_Bi.value, nevts_Tl.value)\n",
    "result, ene, ell, effs = fn.ana_experiment(data, mcs, nevts, level_data = 2)\n",
    "ns_est  = result.x\n",
    "ns_exp = [ni * eff[0] for ni, eff in zip(nevts, effs)]\n",
    "print('estimated events :', *['{:6.2f},'.format(ni) for ni in ns_est])\n",
    "print('expected  events :', *['{:6.2f},'.format(ni) for ni in ns_exp])\n",
    "\n",
    "fn.plot_fit_ell(ene, ns_est, ell.pdf)"
   ]
  },
  {
   "cell_type": "markdown",
   "metadata": {},
   "source": [
    "## Estimate the half-time"
   ]
  },
  {
   "cell_type": "code",
   "execution_count": 15,
   "metadata": {},
   "outputs": [
    {
     "name": "stdout",
     "output_type": "stream",
     "text": [
      "number of bb0nu events :  4.236\n",
      "exposure               :  500  kg y\n",
      "signal efficiency      :  0.519 +-  0.002\n",
      "bb0nu half-life        : 1.34e+26 y \n"
     ]
    }
   ],
   "source": [
    "from ana.collpars import acc_bb, exposure\n",
    "# get the bb-mc selection and efficiency\n",
    "mcsel      = fn.selection(mcbb, varnames, varranges)\n",
    "eff, ueff  = ut.efficiency(mcsel) \n",
    "\n",
    "nevts_bb_RoI  = ns_est[0]\n",
    "tau           = fn.half_life(nevts_bb_RoI, exposure, acc_bb * eff)\n",
    "\n",
    "print('number of bb0nu events : {:6.3f}'.format(nevts_bb_RoI))\n",
    "print('exposure               : ', exposure, ' kg y')\n",
    "print('signal efficiency      : {:6.3f} +- {:6.3f}'.format(eff, ueff))\n",
    "print('bb0nu half-life        : {:6.2e} y '.format(tau))\n",
    "#TODO: uncertainties"
   ]
  },
  {
   "cell_type": "code",
   "execution_count": null,
   "metadata": {},
   "outputs": [],
   "source": []
  }
 ],
 "metadata": {
  "kernelspec": {
   "display_name": "Python 3",
   "language": "python",
   "name": "python3"
  },
  "language_info": {
   "codemirror_mode": {
    "name": "ipython",
    "version": 3
   },
   "file_extension": ".py",
   "mimetype": "text/x-python",
   "name": "python",
   "nbconvert_exporter": "python",
   "pygments_lexer": "ipython3",
   "version": "3.8.8"
  }
 },
 "nbformat": 4,
 "nbformat_minor": 2
}
