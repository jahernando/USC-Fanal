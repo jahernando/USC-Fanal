{
 "cells": [
  {
   "cell_type": "markdown",
   "metadata": {},
   "source": [
    "# Fanal, a neutrino-less beta decay experiment \n",
    "\n",
    "## An open exercise\n",
    "\n",
    "### Confidence intervals \n",
    "\n",
    "#### USC, Master de Física, Física de Partículas II\n",
    "\n",
    "\n",
    "J. A. Hernando-Morata, with the help of J. Muñoz, J. M. Benlloch, B. Palmeiro, G. Díaz.\n",
    "\n",
    "February 2022"
   ]
  },
  {
   "cell_type": "code",
   "execution_count": 15,
   "metadata": {},
   "outputs": [
    {
     "name": "stdout",
     "output_type": "stream",
     "text": [
      "The autoreload extension is already loaded. To reload it, use:\n",
      "  %reload_ext autoreload\n"
     ]
    }
   ],
   "source": [
    "%matplotlib inline\n",
    "%load_ext autoreload\n",
    "%autoreload 2"
   ]
  },
  {
   "cell_type": "markdown",
   "metadata": {},
   "source": [
    "#### Importing modules"
   ]
  },
  {
   "cell_type": "code",
   "execution_count": 16,
   "metadata": {},
   "outputs": [],
   "source": [
    "import numpy  as np\n",
    "import tables as tb\n",
    "import pandas as pd\n",
    "import matplotlib.pyplot as plt\n",
    "\n",
    "import scipy.constants as constants\n",
    "import scipy.stats     as stats\n",
    "import scipy.optimize  as optimize\n",
    "\n",
    "import warnings\n",
    "warnings.filterwarnings('ignore')"
   ]
  },
  {
   "cell_type": "code",
   "execution_count": 17,
   "metadata": {},
   "outputs": [
    {
     "name": "stdout",
     "output_type": "stream",
     "text": [
      "add path to PYTHONPATH :  /Users/hernando/work/docencia/master/Fisica_Particulas/USC-Fanal\n"
     ]
    }
   ],
   "source": [
    "# REMEMBER TO ADD your Fanal FOLDER TO PYTHONPATH\n",
    "import os\n",
    "import sys\n",
    "import importlib\n",
    "dirpath = os.getcwd()[:-9]\n",
    "print('add path to PYTHONPATH : ', dirpath)\n",
    "sys.path.insert(0, os.path.abspath(dirpath))"
   ]
  },
  {
   "cell_type": "code",
   "execution_count": 18,
   "metadata": {},
   "outputs": [],
   "source": [
    "import core.pltext  as pltext   # extensions for plotting histograms\n",
    "import core.hfit    as hfit     # extension to fit histograms\n",
    "import core.efit    as efit     # Fit Utilites - Includes Extend Likelihood Fit with composite PDFs\n",
    "import core.utils   as ut       # generic utilities\n",
    "import ana.fanal    as fn       # analysis functions specific to fanal\n",
    "import     collpars as collpars # collaboration specific parameters\n",
    "pltext.style()"
   ]
  },
  {
   "cell_type": "markdown",
   "metadata": {},
   "source": [
    "## Indications\n",
    "\n",
    "### Goal\n",
    "\n",
    "  **Estimate the Confidence Interval of the half-life.**\n",
    "  \n",
    "  **Observation or discovery?**\n",
    "\n",
    "### Indications\n",
    "\n",
    "   * Compute the likelihood scan, and compute the confidence intervals\n",
    "   \n",
    "   * Compute the test statistics for the null hipothesis (no signal events) and its p-value.\n",
    "   "
   ]
  },
  {
   "cell_type": "markdown",
   "metadata": {},
   "source": [
    "## Main Parameters"
   ]
  },
  {
   "cell_type": "code",
   "execution_count": 5,
   "metadata": {},
   "outputs": [
    {
     "name": "stdout",
     "output_type": "stream",
     "text": [
      "Data From               : test_alpha\n",
      "Energy range            : ( 2.400,  2.700) MeV\n",
      "Blob-2 energy threshold :  0.400 MeV\n",
      "Energy RoI range        : ( 2.430,  2.480) MeV\n"
     ]
    }
   ],
   "source": [
    "coll   = 'test_alpha'\n",
    "erange = fn.erange\n",
    "eroi   = fn.eroi \n",
    "eblob2 = fn.eblob2\n",
    "\n",
    "print('Data From               : {:s}'.format(coll))\n",
    "print('Energy range            : ({:6.3f}, {:6.3f}) MeV'.format(*erange))\n",
    "print('Blob-2 energy threshold : {:6.3f} MeV'.format(eblob2))\n",
    "print('Energy RoI range        : ({:6.3f}, {:6.3f}) MeV'.format(*eroi))"
   ]
  },
  {
   "cell_type": "markdown",
   "metadata": {},
   "source": [
    "## Access the data"
   ]
  },
  {
   "cell_type": "code",
   "execution_count": 6,
   "metadata": {},
   "outputs": [
    {
     "name": "stdout",
     "output_type": "stream",
     "text": [
      "Data :  /Users/hernando/work/docencia/master/Fisica_Particulas/USC-Fanal/data/fanal_test_alpha.h5\n"
     ]
    }
   ],
   "source": [
    "filename = '/data/fanal_' + coll +'.h5'\n",
    "print('Data : ', dirpath + filename)\n",
    "\n",
    "mcbi = pd.read_hdf(dirpath + filename, key = 'mc/bi214')\n",
    "mctl = pd.read_hdf(dirpath + filename, key = 'mc/tl208')\n",
    "mcbb = pd.read_hdf(dirpath + filename, key = 'mc/bb0nu')\n",
    "\n",
    "datab = pd.read_hdf(dirpath + filename, key = 'data/blind')\n",
    "datar = pd.read_hdf(dirpath + filename, key = 'data/roi')\n",
    "data  = pd.concat((datab, datar)) # concatenate blind and roi-data into one data DF"
   ]
  },
  {
   "cell_type": "code",
   "execution_count": 7,
   "metadata": {},
   "outputs": [],
   "source": [
    "samples  = ['bb0nu', 'Bi', 'Tl']\n",
    "ssamples = [r'$\\beta\\beta0\\nu$', r'$^{214}$Bi', r'$^{208}$Tl']\n",
    "mcs      = [mcbb, mcbi, mctl]"
   ]
  },
  {
   "cell_type": "markdown",
   "metadata": {},
   "source": [
    "## Estimate the number of events"
   ]
  },
  {
   "cell_type": "code",
   "execution_count": 8,
   "metadata": {},
   "outputs": [],
   "source": [
    "from collpars import nevts_Bi, unevts_Bi\n",
    "from collpars import nevts_Tl, unevts_Tl\n",
    "nevts  = (10   , nevts_Bi , nevts_Tl)\n",
    "unevts = (False, unevts_Bi, unevts_Tl)"
   ]
  },
  {
   "cell_type": "code",
   "execution_count": 9,
   "metadata": {},
   "outputs": [
    {
     "name": "stdout",
     "output_type": "stream",
     "text": [
      "selection variables  : ['E', 'num_tracks', 'blob2_E']\n",
      "selection ranges     : [(2.4, 2.65), (1.0, 1.1), (0.4, inf)]\n",
      "selection mc samples : ['E', 'num_tracks']\n",
      "data size            : 15\n",
      "mc sizes             : [30217, 6688, 31607]\n",
      "efficiencies         :   0.52, 1.76e-02, 7.28e-03\n",
      "Initial       Events :   5.19,   2.60,   8.13\n",
      "Uncertainties Events :   0.00,   0.32,   0.15\n",
      "Fit success          :  True\n",
      "Estimated     Events :   3.93,   2.58,   8.13\n"
     ]
    },
    {
     "data": {
      "image/png": "[encoded data removed]",
      "text/plain": [
       "<Figure size 720x576 with 2 Axes>"
      ]
     },
     "metadata": {
      "needs_background": "light"
     },
     "output_type": "display_data"
    }
   ],
   "source": [
    "result, enes, ell, pdfs = fn.ana_experiment(data, mcs, nevts, unevts, bins = 180)\n",
    "ns_esp   = result.x   # number of estimated events\n",
    "nevts_bb = ns_esp[0]  # number of bb events"
   ]
  },
  {
   "cell_type": "markdown",
   "metadata": {},
   "source": [
    "### Compute the half-life"
   ]
  },
  {
   "cell_type": "code",
   "execution_count": 10,
   "metadata": {},
   "outputs": [
    {
     "name": "stdout",
     "output_type": "stream",
     "text": [
      "selection variables  : ['E', 'num_tracks', 'blob2_E']\n",
      "selection ranges     : [(2.4, 2.65), (1.0, 1.1), (0.4, inf)]\n",
      "selection mc samples : ['E', 'num_tracks']\n",
      "data size            : 15\n",
      "mc sizes             : [30217, 6688, 31607]\n",
      "efficiencies         :   0.52, 1.76e-02, 7.28e-03\n",
      "number of bb0nu events  :  3.934\n",
      "exposure                : 500.00 kg y\n",
      "total signal efficiency :  0.412\n",
      "bb0nu half-life         : 1.45e+26 y \n"
     ]
    }
   ],
   "source": [
    "anadata, anamcs, effs = fn.ana_samples(data, mcs) \n",
    "eff_bb     = effs[0]\n",
    "nevts_bb   = ns_esp[0]\n",
    "acc_bb     = collpars.acc_bb\n",
    "exposure   = collpars.exposure\n",
    "eff        = acc_bb * eff_bb\n",
    "tau        = fn.half_life(nevts_bb, exposure, eff)\n",
    "\n",
    "print('number of bb0nu events  : {:6.3f}'.format(nevts_bb))\n",
    "print('exposure                : {:6.2f} kg y'.format(exposure))\n",
    "print('total signal efficiency : {:6.3f}'.format(eff))\n",
    "print('bb0nu half-life         : {:6.2e} y '.format(tau))\n",
    "#TODO: uncertainties"
   ]
  },
  {
   "cell_type": "markdown",
   "metadata": {},
   "source": [
    "## Confidence interval\n",
    "\n",
    "We compute the confidence intervals using the log likelihood profile.\n",
    "\n",
    "We consider that conditions of Wilks theorem conditions are fulfill. \n",
    "\n",
    "If the parameters are in the 'gaussian' domain the conditions are fulfilled. \n",
    "\n",
    "If they are not, the distributions of the $t_\\mu(x)$ needs to be obtained using simulated experiments.\n",
    "\n",
    "Here for simplicity we asume they are. This is an \"aceptable\" solution for this exercise."
   ]
  },
  {
   "cell_type": "markdown",
   "metadata": {},
   "source": [
    "\n",
    "In the Wilks regime, there is a simple relation between the -2 log likelihood ration, $t_\\mu(x)$:\n",
    "\n",
    "$$\n",
    "t_\\mu(x) = -2 \\log \\frac{\\mathcal{L}(x|\\mu)}{\\mathcal{L}(x| \\hat{\\mu}(x))}\n",
    "$$\n",
    "\n",
    "and the p-value, $p$\n",
    "\n",
    "$$\n",
    "p = \\int_{t_\\mu}^\\infty g(t'_\\mu | n) \\, \\mathrm{d}t'_\\mu=\n",
    "$$\n",
    "\n",
    "where $g(t_\\mu |n)$ is the pdf of the $\\chi^2$ wiht $n=1$ degrees of freedom. \n",
    "\n",
    "In that case there is a tabulation between $t_\\mu(x)$ and the $p$, the p-value."
   ]
  },
  {
   "cell_type": "markdown",
   "metadata": {},
   "source": [
    "## Compute CI\n",
    "\n",
    "The limits of the CI intervals correspond to the $\\mu$ values where $t_\\mu(x) = 1$ for 68 % CL.\n"
   ]
  },
  {
   "cell_type": "code",
   "execution_count": 11,
   "metadata": {},
   "outputs": [
    {
     "data": {
      "image/png": "[encoded data removed]",
      "text/plain": [
       "<Figure size 432x288 with 1 Axes>"
      ]
     },
     "metadata": {
      "needs_background": "light"
     },
     "output_type": "display_data"
    }
   ],
   "source": [
    "nbins  = 1000\n",
    "nmus   = np.linspace(0, 3 * nevts_bb, nbins) \n",
    "llbest = - 2 * ell.loglike(enes, *ns_esp)\n",
    "dlls   = [-2 * ell.loglike(enes, nmu, *ns_esp[1:]) - llbest for nmu in nmus]\n",
    "plt.plot(nmus, dlls, label = r\"$\\Delta -2 \\mathrm{log} \\mathcal{L}$\");\n",
    "\n",
    "Z3 = 0.0027\n",
    "Z5 = 2.87e-7\n",
    "pvalues = [0.68, 0.9, 1-Z3]\n",
    "cis = []\n",
    "for pvalue in pvalues:\n",
    "    ti = stats.chi2.ppf(pvalue, 1)\n",
    "    plt.plot(nmus, ti * np.ones(nbins), label = ' {:6.2f} % CL'.format(100 * pvalue))\n",
    "    xsel = dlls < ti\n",
    "    ci = np.min(nmus[xsel]), np.max(nmus[xsel])\n",
    "    cis.append(ci)\n",
    "plt.legend(); plt.grid(); plt.xlabel(r'$n_{\\beta\\beta0\\nu}$'); plt.ylabel(\"$\\Delta -2 \\mathrm{log} \\mathcal{L}$\");"
   ]
  },
  {
   "cell_type": "markdown",
   "metadata": {},
   "source": [
    "Translate the CI in number of bb0nu events into CI in the half-life"
   ]
  },
  {
   "cell_type": "code",
   "execution_count": 12,
   "metadata": {},
   "outputs": [
    {
     "name": "stdout",
     "output_type": "stream",
     "text": [
      "Number events CI ( 2.138,  6.426) at  68.00 % CL\n",
      "Number events CI ( 1.288,  8.470) at  90.00 % CL\n",
      "Number events CI ( 0.213, 11.801) at  99.73 % CL\n",
      "tau (y)       CI (8.86e+25, 2.66e+26) at  68.00 % CL\n",
      "tau (y)       CI (6.73e+25, 4.42e+26) at  90.00 % CL\n",
      "tau (y)       CI (4.83e+25, 2.68e+27) at  99.73 % CL\n"
     ]
    }
   ],
   "source": [
    "tau_cis = []\n",
    "for ci, pvalue in zip(cis, pvalues):\n",
    "    tau_ci = [fn.half_life(ni, exposure, eff) for ni in ci]\n",
    "    tau_ci.reverse()\n",
    "    tau_cis.append(tau_ci)\n",
    "\n",
    "for i, pvalue in enumerate(pvalues):\n",
    "    print('Number events CI ({:6.3f}, {:6.3f}) at {:6.2f} % CL'.format(*cis[i]    , 100 * pvalue))\n",
    "    \n",
    "for i, pvalue in enumerate(pvalues):\n",
    "    print('tau (y)       CI ({:1.2e}, {:1.2e}) at {:6.2f} % CL'.format(*tau_cis[i], 100 * pvalue))"
   ]
  },
  {
   "cell_type": "markdown",
   "metadata": {},
   "source": [
    "## Observation or Discovery?\n",
    "\n",
    "Conditions:\n",
    "\n",
    "   * Observation, p-value of the null hipothesis is 3Z, $p > 0.0027$\n",
    "   * Discovery, p-value of the null hipothesis is 5Z, $p > 2.87 \\; 10^{-7}$\n",
    "\n",
    "We consider that we are in the \"gaussian\" regime, in that case, $t_0(x)$, is related with the number of sigmas, via $\\sqrt{t_0(x)}$, and has the p-value, $p$\n",
    "\n",
    "$$\n",
    "p = 1 - \\Phi(\\sqrt{t_0})\n",
    "$$\n",
    "\n",
    "Where $\\Phi$ is the cumulative function of the normal gaussian.\n"
   ]
  },
  {
   "cell_type": "code",
   "execution_count": 13,
   "metadata": {},
   "outputs": [
    {
     "name": "stdout",
     "output_type": "stream",
     "text": [
      "Null hypothesis         =   3.51 Z\n",
      "Null hypothesis p value = 2.28e-04 \n"
     ]
    }
   ],
   "source": [
    "t0 = - 2 * ell.loglike(enes, 0, * ns_esp[1:]) - llbest\n",
    "Z0 = np.sqrt(t0)\n",
    "print('Null hypothesis         = {:6.2f} Z'.format(Z0))\n",
    "p  = 1 - stats.norm.cdf(Z0)\n",
    "print('Null hypothesis p value = {:1.2e} '.format(p))"
   ]
  },
  {
   "cell_type": "markdown",
   "metadata": {},
   "source": [
    "## Write Out"
   ]
  },
  {
   "cell_type": "code",
   "execution_count": 14,
   "metadata": {},
   "outputs": [],
   "source": [
    "write = True\n",
    "\n",
    "if (write):\n",
    "    of = open('collpars.py', 'a')\n",
    "    of.write('ci_bb_68    = ({:6.3f}, {:6.3f})'.format(*cis[0])+'\\n')\n",
    "    of.write('ci_tau_68   = ({:1.2e}, {:1.2e})'.format(*tau_cis[0])+'\\n')\n",
    "    of.write('p_value     = {:1.2e}'.format(p)+' # y \\n')\n",
    "    of.close()"
   ]
  },
  {
   "cell_type": "code",
   "execution_count": null,
   "metadata": {},
   "outputs": [],
   "source": []
  }
 ],
 "metadata": {
  "kernelspec": {
   "display_name": "Python 3 (ipykernel)",
   "language": "python",
   "name": "python3"
  },
  "language_info": {
   "codemirror_mode": {
    "name": "ipython",
    "version": 3
   },
   "file_extension": ".py",
   "mimetype": "text/x-python",
   "name": "python",
   "nbconvert_exporter": "python",
   "pygments_lexer": "ipython3",
   "version": "3.7.11"
  }
 },
 "nbformat": 4,
 "nbformat_minor": 2
}
