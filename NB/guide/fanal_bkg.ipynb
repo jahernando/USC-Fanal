{
 "cells": [
  {
   "cell_type": "markdown",
   "metadata": {},
   "source": [
    "# Fanal, a neutrino-less beta decay experiment \n",
    "\n",
    "## An open exercise\n",
    "\n",
    "### Background estimation \n",
    "\n",
    "\n",
    "#### USC, Master de Física, Física de Partículas II\n",
    "\n",
    "\n",
    "J. A. Hernando-Morata, with the help of J. Muñoz, J. M. Benlloch, B. Palmeiro, G. Díaz.\n",
    "\n",
    "February 2021"
   ]
  },
  {
   "cell_type": "code",
   "execution_count": 1,
   "metadata": {},
   "outputs": [],
   "source": [
    "%matplotlib inline\n",
    "\n",
    "%load_ext autoreload\n",
    "%autoreload 2"
   ]
  },
  {
   "cell_type": "markdown",
   "metadata": {},
   "source": [
    "#### Importing modules"
   ]
  },
  {
   "cell_type": "code",
   "execution_count": 2,
   "metadata": {},
   "outputs": [],
   "source": [
    "import numpy  as np\n",
    "import tables as tb\n",
    "import pandas as pd\n",
    "import matplotlib.pyplot as plt\n",
    "\n",
    "import scipy.stats     as stats  # statistics and Many PDFs \n",
    "#import scipy.optimize  as optimize # Minimice funtions\n",
    "\n",
    "import warnings\n",
    "warnings.filterwarnings('ignore')"
   ]
  },
  {
   "cell_type": "code",
   "execution_count": 3,
   "metadata": {},
   "outputs": [
    {
     "name": "stdout",
     "output_type": "stream",
     "text": [
      "add path to PYTHONPATH :  /Users/hernando/work/docencia/master/Fisica_Particulas/USC-Fanal\n"
     ]
    }
   ],
   "source": [
    "# REMEMBER TO ADD Your Fanal FOLDER TO PYTHONPATH\n",
    "import os\n",
    "import sys\n",
    "dirpath = os.getcwd()[:-9]\n",
    "print('add path to PYTHONPATH : ', dirpath)\n",
    "sys.path.insert(0, os.path.abspath(dirpath))"
   ]
  },
  {
   "cell_type": "code",
   "execution_count": 4,
   "metadata": {},
   "outputs": [],
   "source": [
    "import core.pltext  as pltext   # extensions for plotting histograms\n",
    "import core.hfit    as hfit     # extension to fit histograms\n",
    "import core.efit    as efit     # Fit Utilites - Includes Extend Likelihood Fit with composite PDFs\n",
    "import core.utils   as ut       # generic utilities\n",
    "import ana.fanal    as fn       # analysis functions specific to fanal\n",
    "import ana.collpars as collpars # collaboration specific parameters\n",
    "pltext.style()"
   ]
  },
  {
   "cell_type": "markdown",
   "metadata": {},
   "source": [
    "## Indications\n",
    "\n",
    "### Objective\n",
    "\n",
    "**Estimate the background contamination**, the number of Bi and Tl events, using blind-data.\n",
    "\n",
    "### Tasks\n",
    "\n",
    "\n",
    "   * Open the data file (HDF) and access the mock calibration blind-data.\n",
    "   \n",
    "   * Estimate the number of Bi, Tl events in your blind-data.\n",
    "   \n",
    "     * Fit the energy distribution to a combination of energy distributions of Bi and Tl obtained from MC.\n",
    "              \n",
    "   * Test that the data-blind distributions are as expected according to MC. \n",
    "   \n",
    "   * Estimate the background index in your RoI"
   ]
  },
  {
   "cell_type": "markdown",
   "metadata": {},
   "source": [
    "## Notes\n",
    "\n",
    "\n",
    "A **blind analysis** is an analysis in which the data in a region of interest is blind or masked during the analysis. \n",
    "\n",
    "The analysis must be first completely defined, the procedures and methods verified, before analyzing the complete data set. \n",
    "\n",
    "A blind-analysis tries to avoid a human bias.\n"
   ]
  },
  {
   "cell_type": "markdown",
   "metadata": {},
   "source": [
    "## Notes\n",
    "\n",
    "\n",
    "In this exercise we need to estimate the number of background events in a blind-data set.\n",
    "\n",
    "Blind data are those events in which the main track, track0_E, has an energy or the blob2 Energy, blob2_E, are in the signal region, are removed from data\n",
    "\n",
    "In order to estimate the number of bkg events in the data, we use here the total energy of the event. \n",
    "\n",
    "We fit the energy distribution of the blind data to a composite sample, which is a weighted distribution of the energy distributions obtained with the MC samples, from which we previously removed events in the blind region."
   ]
  },
  {
   "cell_type": "markdown",
   "metadata": {},
   "source": [
    "\n",
    "### An etended likelihood fit\n",
    "\n",
    "We generate the pdf of a variable (energy) for each mc sample, and define later a combined PDF, $f(x | {\\bf n})$ with parameters are ${\\bf n} = (n_{bb}, n_{Bi}, n_{Tl})$ the number of events in each sample. \n",
    "\n",
    "$$\n",
    "f(x | {\\bf n}) = \\sum_i \\frac{n_i}{n} \\, f_i(x)\n",
    "$$\n",
    "\n",
    "where $i$ is the index of each sample, $(\\beta\\beta0\\nu,\\, \\mathrm{Bi}, \\, \\mathrm{Tl})$;  $f_i(x)$ the pdf of sample $i$ and $n = \\sum_i n_i$\n",
    "\n",
    "We then compute the likelihood of our sample, $\\mathcal{L}({\\bf x} | {\\bf n}) = \\Pi_{i=1}^m f(x_i | {\\bf n})$ \n",
    "and minimize $- 2 \\log \\mathcal{L}({\\bf x} | {\\bf n})$.\n",
    "\n"
   ]
  },
  {
   "cell_type": "markdown",
   "metadata": {},
   "source": [
    "An Extended Likelihood includes also the factor of the probability of observing $m$ events expecting $n$.\n",
    "\n",
    "The total likelihood is:\n",
    "\n",
    "$$\n",
    "\\mathcal{L}_{ext}({\\bf x} | {\\bf n}) = g(m | n) \\; \\Pi_{i=1}^m f(x_i | {\\bf n})\n",
    "$$\n",
    "\n",
    "where $g(m|n)$ is the poisson PDF with mean $n$.\n",
    "\n"
   ]
  },
  {
   "cell_type": "markdown",
   "metadata": {},
   "source": [
    "## Recomendations\n",
    "\n",
    "Generate the MC PDFs for the different samples and construct the combined PDF. \n",
    "\n",
    "You can create a PDF from a histogram (see [scipy stats](https://docs.scipy.org/doc/scipy/reference/generated/scipy.stats.rv_histogram.html)). \n",
    "\n",
    "Validate your fit with random experiments.\n",
    "\n",
    "In this guide there is an example of an Extended Maximum Likelihood method.\n",
    "\n",
    "\n"
   ]
  },
  {
   "cell_type": "markdown",
   "metadata": {},
   "source": [
    "## Main Parameters"
   ]
  },
  {
   "cell_type": "code",
   "execution_count": 5,
   "metadata": {},
   "outputs": [
    {
     "name": "stdout",
     "output_type": "stream",
     "text": [
      "Data From               : test_alpha\n",
      "Energy range            : ( 2.400,  2.700) MeV\n",
      "Blob-2 energy threshold :  0.400 MeV\n",
      "Energy RoI range        : ( 2.430,  2.480) MeV\n"
     ]
    }
   ],
   "source": [
    "coll   = 'test_alpha'\n",
    "erange = fn.erange\n",
    "eroi   = fn.eroi \n",
    "eblob2 = fn.eblob2\n",
    "\n",
    "print('Data From               : {:s}'.format(coll))\n",
    "print('Energy range            : ({:6.3f}, {:6.3f}) MeV'.format(*erange))\n",
    "print('Blob-2 energy threshold : {:6.3f} MeV'.format(eblob2))\n",
    "print('Energy RoI range        : ({:6.3f}, {:6.3f}) MeV'.format(*eroi))"
   ]
  },
  {
   "cell_type": "markdown",
   "metadata": {},
   "source": [
    "## Access the data"
   ]
  },
  {
   "cell_type": "code",
   "execution_count": 6,
   "metadata": {},
   "outputs": [
    {
     "name": "stdout",
     "output_type": "stream",
     "text": [
      "Data path and filename :  /Users/hernando/work/docencia/master/Fisica_Particulas/USC-Fanal/data/fanal_test_alpha.h5\n"
     ]
    }
   ],
   "source": [
    "#dirpath = '/Users/hernando/docencia/master/Fisica_Particulas/USC-Fanal/data/'\n",
    "filename = '/data/fanal_' + coll + '.h5'\n",
    "print('Data path and filename : ', dirpath + filename)\n",
    "\n",
    "mcbi = pd.read_hdf(dirpath + filename, key = 'mc/bi214')\n",
    "mctl = pd.read_hdf(dirpath + filename, key = 'mc/tl208')\n",
    "#mcbb = pd.read_hdf(dirpath + filename, key = 'mc/bb0nu')\n",
    "datab = pd.read_hdf(dirpath + filename, key = 'data/blind')"
   ]
  },
  {
   "cell_type": "markdown",
   "metadata": {},
   "source": [
    "### Utilities"
   ]
  },
  {
   "cell_type": "code",
   "execution_count": 7,
   "metadata": {},
   "outputs": [],
   "source": [
    "samples  = ['Bi', 'Tl']\n",
    "ssamples = [r'$^{214}$Bi', r'$^{208}$Tl']\n",
    "mcs      = [mcbi, mctl]"
   ]
  },
  {
   "cell_type": "markdown",
   "metadata": {},
   "source": [
    "## Inspect the variables"
   ]
  },
  {
   "cell_type": "code",
   "execution_count": 8,
   "metadata": {
    "scrolled": false
   },
   "outputs": [],
   "source": [
    "#pltext.df_inspect(datab, ncolumns = 3)"
   ]
  },
  {
   "cell_type": "markdown",
   "metadata": {},
   "source": [
    "## Energy distribution of the blind-data\n",
    "\n",
    "Plot the energy distribution of the blind-data"
   ]
  },
  {
   "cell_type": "code",
   "execution_count": 9,
   "metadata": {},
   "outputs": [
    {
     "data": {
      "image/png": "[encoded data removed]",
      "text/plain": [
       "<Figure size 864x360 with 1 Axes>"
      ]
     },
     "metadata": {
      "needs_background": "light"
     },
     "output_type": "display_data"
    }
   ],
   "source": [
    "def plt_energy(df, label = '', bins = 100, erange = erange):\n",
    "\n",
    "    subplot = pltext.canvas(1)\n",
    "    subplot(1)\n",
    "    pltext.hist(df.E, bins, range = erange, label = label)\n",
    "    plt.xlabel('Energy (MeV)'); \n",
    "    plt.title('Energy : ' + label)\n",
    "    \n",
    "plt_energy(datab, 'blind-data')"
   ]
  },
  {
   "cell_type": "markdown",
   "metadata": {},
   "source": [
    "## Estimate the number of background events in the blind-data"
   ]
  },
  {
   "cell_type": "markdown",
   "metadata": {},
   "source": [
    "  1) Remove from the MC the events in the blind region. \n",
    "\n",
    "  2) Obtain the PDFs distribution for a reference variable, i.e. energy, for each sample; \n",
    "\n",
    "  3) Generate a combined PDF where the parameters are the number of events of each sample.\n",
    "\n",
    "  4) Fit the distribution of that variable to a combined PDF and to estimate the number of background events, Bi, Tl.\n",
    "\n",
    "  5) Compute the total number of background events in the sample and the events in the RoI."
   ]
  },
  {
   "cell_type": "markdown",
   "metadata": {},
   "source": [
    "### Generate MC-blind samples\n",
    "\n",
    "Generate MC sample without events in the blind region.\n",
    "\n",
    "The function *selection_blind(mc)* returns the selection with the blind events\n",
    "\n",
    "Plot the energy"
   ]
  },
  {
   "cell_type": "code",
   "execution_count": 10,
   "metadata": {},
   "outputs": [
    {
     "name": "stdout",
     "output_type": "stream",
     "text": [
      "number of events Bi: total 60184 in blind data 53758\n",
      "number of events Tl: total 687297 in blind data 674815\n"
     ]
    }
   ],
   "source": [
    "sels_blind = [fn.selection_blind(mc) for mc in mcs]\n",
    "mcs_blind  = [mc[sel] for mc, sel in zip(mcs, sels_blind)]\n",
    "for i, mc in enumerate(mcs):\n",
    "    print('number of events {:s}: total {:d} in blind data {:d}'.format(samples[i], len(mcs[i]), len(mcs_blind[i])))"
   ]
  },
  {
   "cell_type": "code",
   "execution_count": 11,
   "metadata": {},
   "outputs": [
    {
     "data": {
      "image/png": "[encoded data removed]",
      "text/plain": [
       "<Figure size 864x360 with 1 Axes>"
      ]
     },
     "metadata": {
      "needs_background": "light"
     },
     "output_type": "display_data"
    },
    {
     "data": {
      "image/png": "[encoded data removed]",
      "text/plain": [
       "<Figure size 864x360 with 1 Axes>"
      ]
     },
     "metadata": {
      "needs_background": "light"
     },
     "output_type": "display_data"
    }
   ],
   "source": [
    "for i, mc in enumerate(mcs):\n",
    "    plt_energy(mcs_blind[i], 'blind-MC-'+samples[i])"
   ]
  },
  {
   "cell_type": "markdown",
   "metadata": {},
   "source": [
    "### An example of how to generate PDFs from histograms"
   ]
  },
  {
   "cell_type": "code",
   "execution_count": 12,
   "metadata": {},
   "outputs": [
    {
     "data": {
      "image/png": "[encoded data removed]",
      "text/plain": [
       "<Figure size 432x288 with 1 Axes>"
      ]
     },
     "metadata": {
      "needs_background": "light"
     },
     "output_type": "display_data"
    }
   ],
   "source": [
    "bins = 100\n",
    "# generate the PDFs of the mcsblind DFs making histograms\n",
    "pdfs = []\n",
    "varname  = 'E' \n",
    "varrange = erange\n",
    "for mc in mcs_blind:\n",
    "    histo = np.histogram(mc[varname], bins, range = varrange);\n",
    "    pdf = stats.rv_histogram( histo )\n",
    "    pdfs.append(pdf)\n",
    "\n",
    "xs   = np.linspace(*varrange, bins)\n",
    "for i, pdf in enumerate(pdfs): \n",
    "    plt.plot(xs, pdf.pdf(xs), label = ssamples[i])\n",
    "plt.grid(); plt.legend(); \n",
    "plt.xlabel('E (MeV)'); plt.title('PDFs');"
   ]
  },
  {
   "cell_type": "markdown",
   "metadata": {},
   "source": [
    "### An example: generate a random experiment using combined pdfs and do a fit\n",
    "\n",
    "Construct an 'Extended Combined PDF' object (see class ExtComPDF in module efit.py). \n",
    "\n",
    "This object can generate random events (*rvs* method), provides the PDF (*pdf* method), the extended log likelihood (*loglike*) and even the fit to a best estimate (*best_estimate*).\n",
    "\n",
    "Internally it uses the module *optimize* of *scipy* ([see](https://docs.scipy.org/doc/scipy/reference/generated/scipy.optimize.minimize.html)). \n",
    "\n",
    "Here an example with our previously construced PDFs of each sample."
   ]
  },
  {
   "cell_type": "code",
   "execution_count": 13,
   "metadata": {},
   "outputs": [
    {
     "name": "stdout",
     "output_type": "stream",
     "text": [
      "True parameters     : 1000.00, 2000.00\n",
      "Fit success? True,\n",
      "Estimated parameters: 940.61, 1964.22\n"
     ]
    },
    {
     "data": {
      "image/png": "[encoded data removed]",
      "text/plain": [
       "<Figure size 432x288 with 1 Axes>"
      ]
     },
     "metadata": {
      "needs_background": "light"
     },
     "output_type": "display_data"
    }
   ],
   "source": [
    "## generate the combined PDF \n",
    "nns  = (1000, 2000) # number of events of each sample\n",
    "print('True parameters     : {:6.2f}, {:6.2f}'.format(*nns))\n",
    "ell = efit.ExtComPDF(pdfs, *nns)\n",
    "\n",
    "# generate a random experiment\n",
    "xs  = ell.rvs()\n",
    "# plot the random events\n",
    "_, edges, _ = pltext.hist(xs, 100, label = 'experiment');\n",
    "\n",
    "# fit using the Extended Log Likelihood\n",
    "res = ell.best_estimate(xs, *nns)\n",
    "# access the information of the 'res' Result Object (see )\n",
    "print('Fit success? {:s},\\nEstimated parameters: {:6.2f}, {:6.2f}'.format(str(res.success), *res.x))\n",
    "\n",
    "# overplot the fit result\n",
    "ns_est  = res.x\n",
    "centers = 0.5 * (edges[1:] + edges[:-1])\n",
    "scale   = np.sum(ns_est) * (edges[1] - edges[0])\n",
    "pdf     = ell.pdf # access to the pdf function inside the composite-PDF object\n",
    "plt.plot(centers, scale * pdf(centers, *ns_est), label = 'fit')\n",
    "plt.legend();"
   ]
  },
  {
   "cell_type": "markdown",
   "metadata": {},
   "source": [
    "## Fit blind-data using an Extended Likelihood Fit\n",
    "\n",
    "Now we fit the blind-data to an Entended Likelihood fit.\n",
    "\n",
    "The code is in the module *fanal* in the function *fit_ell*."
   ]
  },
  {
   "cell_type": "code",
   "execution_count": 14,
   "metadata": {},
   "outputs": [
    {
     "name": "stdout",
     "output_type": "stream",
     "text": [
      "Number of events : 117.13,  791.87, \n"
     ]
    },
    {
     "data": {
      "image/png": "[encoded data removed]",
      "text/plain": [
       "<Figure size 720x576 with 2 Axes>"
      ]
     },
     "metadata": {
      "needs_background": "light"
     },
     "output_type": "display_data"
    }
   ],
   "source": [
    "ns       = (2200., 5200.) # initial guess of the number of events in the blind sample\n",
    "bins     = 100\n",
    "varname  = 'E'\n",
    "varrange = erange\n",
    "# fit_ell: internally generates the composite pdf, calls the fit and returns the fit-result\n",
    "result, ene, ell = fn.fit_ell(datab, mcs_blind, ns, varname, bins, varrange)\n",
    "ns_est = result.x\n",
    "print('Number of events :', *['{:6.2f}, '.format(ni) for ni in ns_est])\n",
    "# it also plots the histogram and the fit function\n",
    "fn.plot_fit_ell(ene, ns_est, ell.pdf)"
   ]
  },
  {
   "cell_type": "markdown",
   "metadata": {},
   "source": [
    "*TODO*: Compute the parameters uncertainties"
   ]
  },
  {
   "cell_type": "markdown",
   "metadata": {},
   "source": [
    "## Compute the total number of background events"
   ]
  },
  {
   "cell_type": "code",
   "execution_count": 15,
   "metadata": {},
   "outputs": [
    {
     "name": "stdout",
     "output_type": "stream",
     "text": [
      " E range   efficiency :  Bi = 0.8874 Tl = 0.7225\n",
      " E & blind efficiency :  Bi = 0.7927 Tl = 0.7094\n",
      " Total Bkg Events     :  Bi = 147.77 Tl = 1116.27\n"
     ]
    }
   ],
   "source": [
    "effs_erange = [] \n",
    "effs_total  = []\n",
    "for mc in [mcbi, mctl]:\n",
    "    # efficiency of the selection of E in the erange\n",
    "    eeff, _ = ut.efficiency(ut.selection(mc, 'E', erange))\n",
    "    # efficiency of the blind selection\n",
    "    beff, _ = ut.efficiency(fn.selection_blind(mc))\n",
    "    # total effiency for the events in the Fit\n",
    "    eff = eeff * beff\n",
    "    effs_erange.append(eeff)\n",
    "    effs_total .append(eff)\n",
    "\n",
    "print(' E range   efficiency : ', *['{:s} = {:6.4f}'.format(s, eff) for s, eff in zip(samples, effs_erange)])\n",
    "print(' E & blind efficiency : ', *['{:s} = {:6.4f}'.format(s, eff) for s, eff in zip(samples, effs_total)])\n",
    "    \n",
    "nevents = [ni / eff for ni, eff in zip(ns_est, effs_total)]\n",
    "print(' Total Bkg Events     : ', *['{:s} = {:6.2f}'.format(s, ni) for s, ni in zip(samples, nevents)])"
   ]
  },
  {
   "cell_type": "markdown",
   "metadata": {},
   "source": [
    "### Calculate the background index in the RoI \n",
    "\n",
    "The background index in the number of events expected in the RoI region per keV and exposure (kg y). \n",
    "\n",
    "The units os bkg-index are: *counts/ (keV kg y)*\n",
    "\n",
    "This number is an indication of how good an experiment is. It helps to compare different experiments. \n",
    "\n",
    "The *exposure* if the *kg y* of data collected by an experiment. \n",
    "\n",
    "For example a 100 kg detector operating 5 years, has an exposure of 500 kg y.\n",
    "\n",
    "For a given exposure, it cuantifies what experiments is the best.\n",
    "\n",
    "In the energy region of interest (RoI), *eroi* MeV, where most of the bb0nu data are."
   ]
  },
  {
   "cell_type": "code",
   "execution_count": 16,
   "metadata": {},
   "outputs": [
    {
     "name": "stdout",
     "output_type": "stream",
     "text": [
      "Sample Bi: total efficiency = 1.55e-02, events in RoI =   2.29\n",
      "Sample Tl: total efficiency = 1.94e-04, events in RoI =   0.22\n"
     ]
    }
   ],
   "source": [
    "selnames  = ['E', 'num_tracks', 'blob2_E', 'E']\n",
    "selranges = [erange, (1., 1.1), (eblob2, np.inf), eroi]\n",
    "\n",
    "effs      = [fn.efficiencies(mc, selnames, selranges) for mc in mcs] # efficiencies after each cut\n",
    "effs_roi  = [eff[0][-1] for eff in effs]                             # total efficiency of the selection\n",
    "nrois     = [nevt * eff for nevt, eff in zip(nevents, effs_roi)]     # Expected numbers of events in RoI\n",
    "\n",
    "for i, eff in enumerate(effs_roi):\n",
    "    print('Sample {:s}: total efficiency = {:1.2e}, events in RoI = {:6.2f}'.format(samples[i], eff, nrois[i]))"
   ]
  },
  {
   "cell_type": "markdown",
   "metadata": {},
   "source": [
    "Every collaboration has a different exposure! Ask for it!"
   ]
  },
  {
   "cell_type": "code",
   "execution_count": 17,
   "metadata": {},
   "outputs": [
    {
     "name": "stdout",
     "output_type": "stream",
     "text": [
      "RoI               :  (2.43, 2.48)  MeV.\n",
      "RoI size          :   50.0 keV.\n",
      "Bkg events in RoI :  Bi \t   2.29, Tl \t   0.22,\n",
      "Exposure          :  500  kg y.\n",
      "Bkg index in RoI  : 1.00e-04 counts/(kg keV y).\n"
     ]
    }
   ],
   "source": [
    "exposure   = 500 # kg y\n",
    "roi_size   = 1e3 * (eroi[1] - eroi[0]) # keV\n",
    "bkg_index  = np.sum(nrois)/(roi_size * exposure) # counts/ (keV kg y)\n",
    "\n",
    "print('RoI               : ', eroi, ' MeV.')\n",
    "print('RoI size          : {:6.3} keV.'.format(roi_size))\n",
    "print('Bkg events in RoI : ', *['{:s} \\t {:6.2f},'.format(s, ni) for s, ni in zip(samples, nrois)])\n",
    "print('Exposure          : ', exposure, ' kg y.')\n",
    "print('Bkg index in RoI  : {:1.2e} counts/(kg keV y).'.format(bkg_index))\n"
   ]
  },
  {
   "cell_type": "code",
   "execution_count": null,
   "metadata": {},
   "outputs": [],
   "source": []
  }
 ],
 "metadata": {
  "kernelspec": {
   "display_name": "Python 3",
   "language": "python",
   "name": "python3"
  },
  "language_info": {
   "codemirror_mode": {
    "name": "ipython",
    "version": 3
   },
   "file_extension": ".py",
   "mimetype": "text/x-python",
   "name": "python",
   "nbconvert_exporter": "python",
   "pygments_lexer": "ipython3",
   "version": "3.8.8"
  }
 },
 "nbformat": 4,
 "nbformat_minor": 2
}
