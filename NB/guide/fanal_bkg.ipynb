{
 "cells": [
  {
   "cell_type": "markdown",
   "metadata": {},
   "source": [
    "# Fanal, a neutrino-less beta decay experiment \n",
    "\n",
    "## An open exercise\n",
    "\n",
    "### Background estimation \n",
    "\n",
    "\n",
    "#### USC, Master de Física, Física de Partículas II\n",
    "\n",
    "\n",
    "J. A. Hernando-Morata\n",
    "\n",
    "February 2021 - February 2022"
   ]
  },
  {
   "cell_type": "code",
   "execution_count": 1,
   "metadata": {},
   "outputs": [],
   "source": [
    "%matplotlib inline\n",
    "%load_ext autoreload\n",
    "%autoreload 2"
   ]
  },
  {
   "cell_type": "markdown",
   "metadata": {},
   "source": [
    "#### Importing modules"
   ]
  },
  {
   "cell_type": "code",
   "execution_count": 2,
   "metadata": {},
   "outputs": [],
   "source": [
    "import numpy  as np\n",
    "import tables as tb\n",
    "import pandas as pd\n",
    "import matplotlib.pyplot as plt\n",
    "\n",
    "import scipy.stats     as stats  # statistics and Many PDFs \n",
    "#import scipy.optimize  as optimize # Minimice funtions\n",
    "\n",
    "import warnings\n",
    "warnings.filterwarnings('ignore')"
   ]
  },
  {
   "cell_type": "code",
   "execution_count": 3,
   "metadata": {},
   "outputs": [
    {
     "name": "stdout",
     "output_type": "stream",
     "text": [
      "add path to PYTHONPATH :  /Users/hernando/work/docencia/master/Fisica_Particulas/USC-Fanal\n"
     ]
    }
   ],
   "source": [
    "# REMEMBER TO ADD Your Fanal FOLDER TO PYTHONPATH\n",
    "import os\n",
    "import sys\n",
    "import importlib\n",
    "dirpath = os.getcwd()[:-9]\n",
    "print('add path to PYTHONPATH : ', dirpath)\n",
    "sys.path.insert(0, os.path.abspath(dirpath))"
   ]
  },
  {
   "cell_type": "code",
   "execution_count": 4,
   "metadata": {},
   "outputs": [],
   "source": [
    "import core.pltext  as pltext   # extensions for plotting histograms\n",
    "import core.hfit    as hfit     # extension to fit histograms\n",
    "import core.efit    as efit     # Fit Utilites - Includes Extend Likelihood Fit with composite PDFs\n",
    "import core.utils   as ut       # generic utilities\n",
    "import ana.fanal    as fn       # analysis functions specific to fanal\n",
    "import ana.pltfanal as pltfn    # plotting for fanal\n",
    "import     collpars as collpars # collaboration specific parameters\n",
    "pltext.style()"
   ]
  },
  {
   "cell_type": "markdown",
   "metadata": {},
   "source": [
    "## Indications\n",
    "\n",
    "### Objective\n",
    "\n",
    "  * **Estimate the background contamination**, the number of Bi and Tl events, using blind-data.\n",
    "\n",
    "### Tasks\n",
    "\n",
    "\n",
    "   * Open the data file (HDF) and access the mock calibration blind-data.\n",
    "   \n",
    "   * Estimate the number of Bi, Tl events in your **blind-data** sample.\n",
    "   \n",
    "     * **Fit the energy distribution** to a combination of **energy distributions of Bi and Tl obtained from MC**.\n",
    "              \n",
    "   * Test that the data-blind distributions are as expected according to MC. \n",
    "   \n",
    "   * **Estimate the background index** in your RoI"
   ]
  },
  {
   "cell_type": "markdown",
   "metadata": {},
   "source": [
    "## Notes\n",
    "\n",
    "\n",
    " * About Blind Analysis:\n",
    "\n",
    "   * A **blind analysis** is an analysis in which the data in a region of interest is blind or masked during the analysis. \n",
    "\n",
    "   * The analysis must be first completely defined, the procedures and methods verified, before analyzing the complete data set. \n",
    "\n",
    "   * A blind-analysis tries to avoid a human bias. To avoid false discoveries.\n",
    "   \n",
    "   * Blind data are those events in which the energy of the most energetic track, *track0_E*, is outside the Energy RoI or the less energetic blob of that track, *blob2_E*, is bellow a certain value (*eblob2*)."
   ]
  },
  {
   "cell_type": "markdown",
   "metadata": {},
   "source": [
    "  * About the estimation of the number of background events\n",
    "\n",
    "     * Estimate the number of background events using a blind-data set.\n",
    "\n",
    "     * Compute the mc efficiencies of the blind selection.\n",
    "     \n",
    "     * Construct a composite pdf with the energy, *E*, distributions of the blind mc samples.\n",
    "     \n",
    "     * Fit the energy, *E*, distribution of the blind data to the composite pdf and estimate the number of bkg event in the blind sample.\n",
    "     \n",
    "     * Recover the total number of bkg events.\n",
    "     \n",
    "     * Using the selection efficiences, compute the number of bkg events expected in the RoI and in the Energy, *erange*, regions.\n"
   ]
  },
  {
   "cell_type": "markdown",
   "metadata": {},
   "source": [
    "\n",
    "### About the fit: Extended likelihood fit\n",
    "\n",
    "We generate the pdf of a variable (energy) for each mc sample, and define later a combined pdf, $f(x | {\\bf n})$ with parameters are ${\\bf n} = (n_{bb}, n_{Bi}, n_{Tl})$ the number of events in each sample. \n",
    "\n",
    "$$\n",
    "f(x | {\\bf n}) = \\sum_i \\frac{n_i}{n} \\, f_i(x)\n",
    "$$\n",
    "\n",
    "where $i$ is the index of each sample, $(\\beta\\beta0\\nu,\\, \\mathrm{Bi}, \\, \\mathrm{Tl})$;  $f_i(x)$ the pdf of sample $i$ and $n = \\sum_i n_i$\n",
    "\n",
    "We then compute the likelihood of our sample, $\\mathcal{L}({\\bf x} | {\\bf n}) = \\Pi_{i=1}^m f(x_i | {\\bf n})$ \n",
    "and minimize $- 2 \\log \\mathcal{L}({\\bf x} | {\\bf n})$.\n",
    "\n"
   ]
  },
  {
   "cell_type": "markdown",
   "metadata": {},
   "source": [
    "An Extended Likelihood includes also the factor of the probability of observing $m$ events expecting $n$.\n",
    "\n",
    "The total likelihood is:\n",
    "\n",
    "$$\n",
    "\\mathcal{L}_{ext}({\\bf x} | {\\bf n}) = g(m | n) \\; \\Pi_{i=1}^m f(x_i | {\\bf n})\n",
    "$$\n",
    "\n",
    "where $g(m|n)$ is the poisson pdf with mean $n$."
   ]
  },
  {
   "cell_type": "markdown",
   "metadata": {},
   "source": [
    "### Notes\n",
    "\n",
    "  * Generate the MC pdfs for the different samples and construct the combined PDF. \n",
    "\n",
    "  * You can create a pdf from a histogram (see [scipy stats](https://docs.scipy.org/doc/scipy/reference/generated/scipy.stats.rv_histogram.html)). \n",
    "\n",
    "  * In this guide there is an example of an Extended Maximum Likelihood method."
   ]
  },
  {
   "cell_type": "markdown",
   "metadata": {},
   "source": [
    "## Main Parameters"
   ]
  },
  {
   "cell_type": "code",
   "execution_count": 5,
   "metadata": {},
   "outputs": [
    {
     "name": "stdout",
     "output_type": "stream",
     "text": [
      "Collaboration             : new_beta\n",
      "number of tracks range    : (1,   1.10)\n",
      "Blob-2 energy range       : ( 0.400,  1.200) MeV\n",
      "Energy range              : ( 2.400,  2.700) MeV\n",
      "Energy RoI range          : ( 2.430,  2.480) MeV\n"
     ]
    }
   ],
   "source": [
    "coll          = collpars.collaboration\n",
    "ntracks_range = collpars.ntracks_range\n",
    "eblob2_range  = collpars.eblob2_range\n",
    "erange        = collpars.erange\n",
    "eroi          = collpars.eroi\n",
    "\n",
    "print('Collaboration             : {:s}'.format(coll))\n",
    "print('number of tracks range    : ({:d}, {:6.2f})'.format(*ntracks_range))\n",
    "print('Blob-2 energy range       : ({:6.3f}, {:6.3f}) MeV'.format(*eblob2_range))\n",
    "print('Energy range              : ({:6.3f}, {:6.3f}) MeV'.format(*erange))\n",
    "print('Energy RoI range          : ({:6.3f}, {:6.3f}) MeV'.format(*eroi))"
   ]
  },
  {
   "cell_type": "markdown",
   "metadata": {},
   "source": [
    "## Access the data"
   ]
  },
  {
   "cell_type": "code",
   "execution_count": 6,
   "metadata": {},
   "outputs": [
    {
     "name": "stdout",
     "output_type": "stream",
     "text": [
      "Data path and filename :  /Users/hernando/work/docencia/master/Fisica_Particulas/USC-Fanal/data/fanal_new_beta.h5\n"
     ]
    }
   ],
   "source": [
    "#dirpath = '/Users/hernando/docencia/master/Fisica_Particulas/USC-Fanal/data/'\n",
    "filename = '/data/fanal_' + coll + '.h5'\n",
    "print('Data path and filename : ', dirpath + filename)\n",
    "\n",
    "mcbi       = pd.read_hdf(dirpath + filename, key = 'mc/bi214')   # MC Bi\n",
    "mctl       = pd.read_hdf(dirpath + filename, key = 'mc/tl208')   # MC Tl\n",
    "data_blind = pd.read_hdf(dirpath + filename, key = 'data/blind') # blind data\n",
    "\n",
    "mcs      = [mcbi, mctl]\n",
    "tsamples = ['Bi', 'Tl']\n",
    "ssamples = [r'$^{214}$Bi', r'$^{208}$Tl']"
   ]
  },
  {
   "cell_type": "markdown",
   "metadata": {},
   "source": [
    "## Select MC blind samples"
   ]
  },
  {
   "cell_type": "code",
   "execution_count": 7,
   "metadata": {},
   "outputs": [
    {
     "name": "stdout",
     "output_type": "stream",
     "text": [
      "number of events Bi     : 60184 total, 53758 blind \n",
      "number of events Tl     : 687297 total, 674815 blind \n",
      "Efficiency blind selection :  Bi = 0.8932,  Tl = 0.9818, \n"
     ]
    }
   ],
   "source": [
    "# apply the blind selection to the mc samples to obtaine blind mc samples\n",
    "sels_blind = [fn.selection_blind(mc) for mc in mcs]\n",
    "mcs_blind  = [mc[sel] for mc, sel in zip(mcs, sels_blind)]\n",
    "\n",
    "# compute the efficiency of the blid selection on the mc samples\n",
    "effs_blind = [ut.efficiency(sel)[0] for sel in sels_blind]\n",
    "\n",
    "for i, mc in enumerate(mcs):\n",
    "    print('number of events {:s}     : {:d} total, {:d} blind '.format(tsamples[i], \n",
    "                                                                       len(mcs[i]), len(mcs_blind[i])))\n",
    "print('Efficiency blind selection : ', *['{:s} = {:6.4f}, '.format(s, eff) \\\n",
    "                                      for s, eff in zip(tsamples, effs_blind)])"
   ]
  },
  {
   "cell_type": "markdown",
   "metadata": {},
   "source": [
    "## Energy distribution of the blind-data and blind MC samples\n"
   ]
  },
  {
   "cell_type": "code",
   "execution_count": 8,
   "metadata": {},
   "outputs": [
    {
     "data": {
      "image/png": "[encoded data removed]",
      "text/plain": [
       "<Figure size 864x360 with 2 Axes>"
      ]
     },
     "metadata": {
      "needs_background": "light"
     },
     "output_type": "display_data"
    }
   ],
   "source": [
    "def plot_energy(df, label = '', bins = 100):\n",
    "    pltext.hist(df.E, bins, range = erange, label = label, density = True)\n",
    "    plt.xlabel('Energy (MeV)'); \n",
    "\n",
    "subplot = pltext.canvas(2)\n",
    "subplot(1)\n",
    "plot_energy(data_blind)\n",
    "plt.title('blind data');\n",
    "\n",
    "subplot(2)\n",
    "for i, df in enumerate(mcs_blind):\n",
    "    plot_energy(df, label = ssamples[i])\n",
    "plt.legend(); plt.title('MC blind samples');"
   ]
  },
  {
   "cell_type": "markdown",
   "metadata": {},
   "source": [
    "## Estimate the number of background events in the blind-data"
   ]
  },
  {
   "cell_type": "markdown",
   "metadata": {},
   "source": [
    "Estimate the number of events of Bi and Tl:  \n",
    "  \n",
    "  * Obtain the pdfs distribution for a reference variable, i.e. energy, for each blind sample.\n",
    "\n",
    "  * Generate a combined pdf where the parameters are the number of events of each sample.\n",
    "\n",
    "  * Estimate the number of blind Tl and Bi events fitting the energy distribution to the combined pdf.\n",
    "\n",
    "  * Compute the total number of Tl and Bi using the efficiencies of the blind selection in the MC samples.\n",
    "  \n",
    "Note:\n",
    "\n",
    "  * There is an appendix in the NB to show the code step by step"
   ]
  },
  {
   "cell_type": "code",
   "execution_count": 9,
   "metadata": {},
   "outputs": [
    {
     "data": {
      "image/png": "[encoded data removed]",
      "text/plain": [
       "<Figure size 720x576 with 2 Axes>"
      ]
     },
     "metadata": {
      "needs_background": "light"
     },
     "output_type": "display_data"
    }
   ],
   "source": [
    "nguess = (1000., 1000.)\n",
    "\n",
    "varname   = 'E'\n",
    "refnames  = (varname,) \n",
    "refranges = (erange,)\n",
    "\n",
    "fit        = fn.prepare_fit_ell(mcs_blind, nguess, refnames, refranges)\n",
    "\n",
    "result, enes, ell, _ = fit(data_blind)\n",
    "nevts_blind  = result.x\n",
    "\n",
    "pltfn.plot_fit_ell(enes, nevts_blind, ell, parnames = ssamples);"
   ]
  },
  {
   "cell_type": "markdown",
   "metadata": {},
   "source": [
    "## Compute the total number of background events\n",
    "\n",
    "In order to estimate the total number of bkg events in data we need to consider:\n",
    "\n",
    "  1. The efficiency of the blind selection in each mc sample.\n",
    "  \n",
    "  2. The efficiency of the cut in the energy range, *erange* (the range of the fit), on each mc blind sample.\n",
    "  \n",
    "  3. The number of estimated events."
   ]
  },
  {
   "cell_type": "code",
   "execution_count": 10,
   "metadata": {},
   "outputs": [
    {
     "name": "stdout",
     "output_type": "stream",
     "text": [
      " blind     efficiency : Bi = 0.8932 Tl = 0.9818\n",
      " E range   efficiency : Bi = 0.8793 Tl = 0.7205\n",
      " blind & E efficiency : Bi = 0.7854 Tl = 0.7075\n"
     ]
    }
   ],
   "source": [
    "effs_ene   = [ut.selection_efficiency(mc, 'E', erange)[0]  for mc in mcs_blind]\n",
    "effs_total = np.array(effs_ene) * np.array(effs_blind)\n",
    "\n",
    "print(' blind     efficiency :', *['{:s} = {:6.4f}'.format(s, eff) for s, eff in zip(tsamples, effs_blind)])\n",
    "print(' E range   efficiency :', *['{:s} = {:6.4f}'.format(s, eff) for s, eff in zip(tsamples, effs_ene)])\n",
    "print(' blind & E efficiency :', *['{:s} = {:6.4f}'.format(s, eff) for s, eff in zip(tsamples, effs_total)])"
   ]
  },
  {
   "cell_type": "code",
   "execution_count": 11,
   "metadata": {},
   "outputs": [
    {
     "name": "stdout",
     "output_type": "stream",
     "text": [
      " Events in blind & E  : Bi = 1102.09 Tl = 14625.49\n",
      " Total Bkg Events     : Bi = 1403.27 Tl = 20673.20\n"
     ]
    }
   ],
   "source": [
    "nevts = [ni / eff for ni, eff in zip(nevts_blind, effs_total)]\n",
    "\n",
    "print(' Events in blind & E  :', *['{:s} = {:6.2f}'.format(s, ni) for s, ni in zip(tsamples, nevts_blind)])\n",
    "print(' Total Bkg Events     :', *['{:s} = {:6.2f}'.format(s, ni) for s, ni in zip(tsamples, nevts)])"
   ]
  },
  {
   "cell_type": "markdown",
   "metadata": {},
   "source": [
    "## Calculate the number of background events in RoI \n",
    "\n",
    "  * We use the selection efficiencies to compute the number of events in the RoI, *eroi*, and energy range, *erange*, regions\n"
   ]
  },
  {
   "cell_type": "code",
   "execution_count": 12,
   "metadata": {},
   "outputs": [
    {
     "name": "stdout",
     "output_type": "stream",
     "text": [
      "Sample Bi: efficiency in E Range  = 1.80e-02, events in E range =  25.26\n",
      "Sample Tl: efficiency in E Range  = 7.30e-03, events in E range = 150.91\n",
      "Sample Bi: efficiency in RoI      = 1.55e-02, events in RoI     =  21.75\n",
      "Sample Tl: efficiency in RoI      = 1.94e-04, events in RoI     =   4.01\n"
     ]
    }
   ],
   "source": [
    "effs_e    = (collpars.eff_Bi_E  , collpars.eff_Tl_E)             # selection efficiency in the erange\n",
    "effs_roi  = (collpars.eff_Bi_RoI, collpars.eff_Tl_RoI)           # selection efficiency in the eroi\n",
    "\n",
    "nenes     = [nevt * eff for nevt, eff in zip(nevts, effs_e)]     # Estimated numbers of events in erange\n",
    "nrois     = [nevt * eff for nevt, eff in zip(nevts, effs_roi)]   # Estimated numbers of events in RoI\n",
    "\n",
    "for i, eff in enumerate(effs_e):\n",
    "    print('Sample {:s}: efficiency in E Range  = {:1.2e}, events in E range = {:6.2f}'.format(tsamples[i], eff, nenes[i]))\n",
    "for i, eff in enumerate(effs_roi):\n",
    "    print('Sample {:s}: efficiency in RoI      = {:1.2e}, events in RoI     = {:6.2f}'.format(tsamples[i], eff, nrois[i]))"
   ]
  },
  {
   "cell_type": "markdown",
   "metadata": {},
   "source": [
    "## Calculate the background index in the RoI \n",
    "\n",
    "The **background index** in the number of events expected in the RoI region per keV and exposure (kg y). \n",
    "\n",
    "The units os bkg-index are: *counts/ (keV kg y)*\n",
    "\n",
    "The *exposure* if the *kg y* of data collected by an experiment. \n",
    "\n",
    "For example a 100 kg detector operating 5 years, has an exposure of 500 kg y."
   ]
  },
  {
   "cell_type": "markdown",
   "metadata": {},
   "source": [
    "Every collaboration has a different exposure! **Ask for it!**"
   ]
  },
  {
   "cell_type": "code",
   "execution_count": 13,
   "metadata": {},
   "outputs": [
    {
     "name": "stdout",
     "output_type": "stream",
     "text": [
      "RoI               :  (2.43, 2.48)  MeV.\n",
      "RoI size          :   50.0 keV.\n",
      "Bkg events in RoI :  Bi \t  21.75, Tl \t   4.01,\n",
      "Exposure          :  1000  kg y.\n",
      "Bkg index in RoI  : 5.15e-04 counts/(kg keV y).\n"
     ]
    }
   ],
   "source": [
    "exposures  = {'new_alpha': 500, 'new_beta': 1000, 'new_gamma': 1000,\n",
    "              'new_delta': 3000, 'new_epsilon': 3000}\n",
    "acc_bb     = 0.79\n",
    "exposure   = exposures[coll]\n",
    "roi_size   = 1e3 * (eroi[1] - eroi[0]) # keV\n",
    "bkg_index  = np.sum(nrois)/(roi_size * exposure) # counts/ (keV kg y)\n",
    "\n",
    "print('RoI               : ', eroi, ' MeV.')\n",
    "print('RoI size          : {:6.3} keV.'.format(roi_size))\n",
    "print('Bkg events in RoI : ', *['{:s} \\t {:6.2f},'.format(s, ni) for s, ni in zip(tsamples, nrois)])\n",
    "print('Exposure          : ', exposure, ' kg y.')\n",
    "print('Bkg index in RoI  : {:1.2e} counts/(kg keV y).'.format(bkg_index))"
   ]
  },
  {
   "cell_type": "markdown",
   "metadata": {},
   "source": [
    "## Write out"
   ]
  },
  {
   "cell_type": "code",
   "execution_count": 14,
   "metadata": {},
   "outputs": [],
   "source": [
    "write = True\n",
    "if (write):\n",
    "    of = open('collpars.py', 'a')\n",
    "    of.write('exposure        = {:6.2f}'.format(exposure)+' # kg y \\n')\n",
    "    of.write('bkg_index       = {:1.3e}'.format(bkg_index)+' # counts /(keV kg y) \\n')\n",
    "    of.write('roi_size        = {:6.3f}'.format(roi_size)+' # keV \\n') \n",
    "    of.write('acc_bb          = {:6.3f}'.format(acc_bb)+'\\n')\n",
    "    for i, sample in enumerate(tsamples):\n",
    "        of.write('eff_'+sample+'_blind    = {:6.3f}'.format(effs_total[i])+'\\n')\n",
    "        of.write('nevts_'+sample+'_blind  = {:6.3f}'.format(nevts_blind[i])+'\\n')\n",
    "        of.write('nevts_'+sample+'        = {:6.3f}'.format(nevts[i])+'\\n')\n",
    "        of.write('nevts_'+sample+'_E      = {:6.3f}'.format(nenes[i])+'\\n')\n",
    "        of.write('nevts_'+sample+'_RoI    = {:6.3f}'.format(nrois[i])+'\\n')\n",
    "    of.close()"
   ]
  },
  {
   "cell_type": "markdown",
   "metadata": {},
   "source": [
    "## Apendix: step by step "
   ]
  },
  {
   "cell_type": "code",
   "execution_count": 15,
   "metadata": {},
   "outputs": [
    {
     "name": "stdout",
     "output_type": "stream",
     "text": [
      "Fit success? True,\n",
      "Estimated parameters: 1092.57, 14606.61\n"
     ]
    }
   ],
   "source": [
    "# select the variable and range to generate the pdfs\n",
    "bins     = 200\n",
    "varname  = 'E' \n",
    "varrange = erange\n",
    "\n",
    "# generate the PDFs using the blind mc samples\n",
    "histos   = [np.histogram(mc[varname], bins, range = varrange) for mc    in mcs_blind]\n",
    "pdfs     = [stats.rv_histogram(histo)                         for histo in histos]\n",
    "\n",
    "# generate the extended combined pdf ibject \n",
    "nguess   = (1000, 2000) # initial guess of the number of events of each sample\n",
    "ell      = efit.ExtComPDF(pdfs, *nguess)\n",
    "\n",
    "# get the energy values of the blind data in the energy range\n",
    "sel      = ut.selection(data_blind, varname, varrange)\n",
    "enes     = data_blind[varname][sel]\n",
    "\n",
    "# fit the energy values to the combined pdf using an unbinned extended likelihood fit\n",
    "res      = ell.best_estimate(enes, *nguess)\n",
    "nbest    = res.x\n",
    "\n",
    "# access the information of the 'res' Result Object (see )\n",
    "print('Fit success? {:s},\\nEstimated parameters: {:6.2f}, {:6.2f}'.format(str(res.success), *nbest))"
   ]
  },
  {
   "cell_type": "code",
   "execution_count": 16,
   "metadata": {},
   "outputs": [
    {
     "data": {
      "image/png": "[encoded data removed]",
      "text/plain": [
       "<Figure size 576x432 with 1 Axes>"
      ]
     },
     "metadata": {
      "needs_background": "light"
     },
     "output_type": "display_data"
    }
   ],
   "source": [
    "# Plot the data\n",
    "pltext.canvas(1, 1, 6, 8)\n",
    "\n",
    "counts, xbins = np.histogram(enes, bins, range = erange)\n",
    "xcenters      = 0.5 * (xbins[1:] + xbins[:-1])\n",
    "plt.plot(xcenters, counts, marker = 'o', ls = '');\n",
    "\n",
    "# plot the pdfs scaled by the number of events\n",
    "ntot = np.sum(nbest)\n",
    "dx   = xbins[1] - xbins[0]\n",
    "plt.plot(xcenters, ntot * dx * ell.pdf(xcenters, *nbest), label = 'Ell fit');\n",
    "for i, pdf in enumerate(pdfs):\n",
    "    plt.plot(xcenters, nbest[i] * dx * pdf.pdf(xcenters), label = ssamples[i]);\n",
    "plt.grid(which='both'); plt.legend();\n",
    "plt.xlabel('Energy (MeV)'); plt.ylabel('counts');"
   ]
  },
  {
   "cell_type": "code",
   "execution_count": null,
   "metadata": {},
   "outputs": [],
   "source": []
  }
 ],
 "metadata": {
  "kernelspec": {
   "display_name": "Python 3 (ipykernel)",
   "language": "python",
   "name": "python3"
  },
  "language_info": {
   "codemirror_mode": {
    "name": "ipython",
    "version": 3
   },
   "file_extension": ".py",
   "mimetype": "text/x-python",
   "name": "python",
   "nbconvert_exporter": "python",
   "pygments_lexer": "ipython3",
   "version": "3.7.11"
  }
 },
 "nbformat": 4,
 "nbformat_minor": 2
}
