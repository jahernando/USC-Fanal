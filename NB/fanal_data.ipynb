{
 "cells": [
  {
   "cell_type": "markdown",
   "metadata": {},
   "source": [
    "# Fanal\n",
    "\n",
    "## A neutrino-less beta decay experiment \n",
    "\n",
    "## An open exercise\n",
    "\n",
    "## Signal Estimation from data \n",
    "\n",
    "### USC, Master de Física, Física de Partícula II\n",
    "\n",
    "\n",
    "J. A. Hernando-Morata, with the help of J. Muñoz, J. M. Benlloch, B. Palmeiro, G. Díaz\n",
    "\n",
    "February 2021\n"
   ]
  },
  {
   "cell_type": "code",
   "execution_count": 1,
   "metadata": {},
   "outputs": [],
   "source": [
    "%matplotlib inline\n",
    "\n",
    "%load_ext autoreload\n",
    "%autoreload 2"
   ]
  },
  {
   "cell_type": "markdown",
   "metadata": {},
   "source": [
    "#### Importing modules"
   ]
  },
  {
   "cell_type": "code",
   "execution_count": 2,
   "metadata": {},
   "outputs": [],
   "source": [
    "import numpy  as np\n",
    "import tables as tb\n",
    "import pandas as pd\n",
    "import matplotlib.pyplot as plt\n",
    "\n",
    "import scipy.constants as constants\n",
    "import scipy.stats     as stats\n",
    "import scipy.optimize  as optimize\n",
    "\n",
    "import warnings\n",
    "warnings.filterwarnings('ignore')"
   ]
  },
  {
   "cell_type": "code",
   "execution_count": 1,
   "metadata": {},
   "outputs": [
    {
     "name": "stdout",
     "output_type": "stream",
     "text": [
      "add path to PYTHONPATH :  /Users/hernando/docencia/master/Fisica_Particulas/USC-Fanal/\n"
     ]
    }
   ],
   "source": [
    "# REMEMBER TO ADD THE FOLDER TO PYTHONPATH\n",
    "import os\n",
    "import sys\n",
    "dirpath = os.getcwd()[:-2]\n",
    "print('add path to PYTHONPATH : ', dirpath)\n",
    "sys.path.insert(0, os.path.abspath(dirpath))"
   ]
  },
  {
   "cell_type": "code",
   "execution_count": 3,
   "metadata": {},
   "outputs": [],
   "source": [
    "import core.pltext as pltext\n",
    "#import hipy.efit   as efit\n",
    "import core.utils  as ut\n",
    "\n",
    "import ana.fanal  as fn\n",
    "\n",
    "pltext.style()"
   ]
  },
  {
   "cell_type": "markdown",
   "metadata": {},
   "source": [
    "## Indications\n",
    "\n",
    "### Goal\n",
    "\n",
    "  **Estimate the number of signal events in data. Estimate the half-life value**.\n",
    "\n",
    "### Indications\n",
    "\n",
    "   * Get the data\n",
    "   \n",
    "   * Estimate the number of signal events (with the method validated in the previous notebook)\n",
    "   \n",
    "   * Measure the half-life.\n",
    "   \n",
    "   * Estimate also the uncertainties.\n"
   ]
  },
  {
   "cell_type": "markdown",
   "metadata": {},
   "source": [
    "## Access the data"
   ]
  },
  {
   "cell_type": "code",
   "execution_count": 4,
   "metadata": {},
   "outputs": [],
   "source": [
    "#dirpath = '/Users/hernando/investigacion/NEXT/work/ICAROSNB/JAH/fanal/data/'\n",
    "dirpath = '/Users/hernando/docencia/master/Fisica_Particulas/USC-Fanal/data/'"
   ]
  },
  {
   "cell_type": "code",
   "execution_count": 5,
   "metadata": {},
   "outputs": [],
   "source": [
    "filename = 'alpha.h5'\n",
    "\n",
    "mcbi = pd.read_hdf(dirpath + filename, key = 'mc/bi214')\n",
    "mctl = pd.read_hdf(dirpath + filename, key = 'mc/tl208')\n",
    "mcbb = pd.read_hdf(dirpath + filename, key = 'mc/bb0nu')\n",
    "\n",
    "datab = pd.read_hdf(dirpath + filename, key = 'data/blind')\n",
    "datar = pd.read_hdf(dirpath + filename, key = 'data/roi')\n",
    "data  = pd.concat((datab, datar)) # concatenate blind and roi-data into one data DF\n"
   ]
  },
  {
   "cell_type": "code",
   "execution_count": 6,
   "metadata": {},
   "outputs": [],
   "source": [
    "samples  = ['bb0nu', 'Bi', 'Tl']\n",
    "ssamples = [r'$\\beta\\beta0\\nu$', r'$^{214}$Bi', r'$^{208}$Tl']\n",
    "mcs      = [mcbb, mcbi, mctl]"
   ]
  },
  {
   "cell_type": "code",
   "execution_count": 7,
   "metadata": {},
   "outputs": [],
   "source": [
    "erange     = (2.400, 2.650)\n",
    "varnames   = ['E', 'num_tracks', 'blob2_E']\n",
    "varranges  = [erange, (1., 1.1), (0.4, np.inf)]"
   ]
  },
  {
   "cell_type": "markdown",
   "metadata": {},
   "source": [
    "## Estimate the number of signal events"
   ]
  },
  {
   "cell_type": "markdown",
   "metadata": {},
   "source": [
    "### Estimate the number of expected events"
   ]
  },
  {
   "cell_type": "code",
   "execution_count": 8,
   "metadata": {},
   "outputs": [
    {
     "name": "stdout",
     "output_type": "stream",
     "text": [
      "[24.332084286339967, 1424.0, 1942.0]\n"
     ]
    }
   ],
   "source": [
    "def nevents(nbb_roi, nbi, ntl, eff_bb_roi = 0.41098):\n",
    "    nevts  = [nbb_roi/eff_bb_roi, nbi, ntl]\n",
    "    return nevts\n",
    "\n",
    "nbb_roi = 10    # guess\n",
    "nbi     = 1424. # 5772. # From previos NB\n",
    "ntl     = 1942. #8230. # From previos NB\n",
    "nevts   = nevents(nbb_roi, nbi, ntl)\n",
    "print(nevts)"
   ]
  },
  {
   "cell_type": "markdown",
   "metadata": {},
   "source": [
    "## Inspect the variables"
   ]
  },
  {
   "cell_type": "code",
   "execution_count": 9,
   "metadata": {
    "scrolled": false
   },
   "outputs": [],
   "source": [
    "#pltext.df_inspect(exp, ncolumns = 3)"
   ]
  },
  {
   "cell_type": "markdown",
   "metadata": {},
   "source": [
    "## Estimate the number of events"
   ]
  },
  {
   "cell_type": "markdown",
   "metadata": {},
   "source": [
    "## Estimate the half-time"
   ]
  },
  {
   "cell_type": "code",
   "execution_count": null,
   "metadata": {},
   "outputs": [],
   "source": []
  }
 ],
 "metadata": {
  "kernelspec": {
   "display_name": "Python 3",
   "language": "python",
   "name": "python3"
  },
  "language_info": {
   "codemirror_mode": {
    "name": "ipython",
    "version": 3
   },
   "file_extension": ".py",
   "mimetype": "text/x-python",
   "name": "python",
   "nbconvert_exporter": "python",
   "pygments_lexer": "ipython3",
   "version": "3.7.9"
  }
 },
 "nbformat": 4,
 "nbformat_minor": 2
}
