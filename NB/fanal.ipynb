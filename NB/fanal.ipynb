{
 "cells": [
  {
   "cell_type": "markdown",
   "metadata": {},
   "source": [
    "# Fanal\n",
    "\n",
    "## A neutrino-less beta decay search \n",
    "\n",
    "##  An open exercise\n",
    "\n",
    "\n",
    "### USC, Master de Física, Física de Partícula II\n",
    "\n",
    "\n",
    "J. A. Hernando-Morata, \n",
    "\n",
    "with the help of J. Muñoz, J. M. Benlloch, B. Palmeiro, G. Díaz.\n",
    "\n",
    "January 2021\n"
   ]
  },
  {
   "cell_type": "markdown",
   "metadata": {},
   "source": [
    "## A neutrino-less beta decay search - An open exercise"
   ]
  },
  {
   "cell_type": "markdown",
   "metadata": {},
   "source": [
    "### Objective\n",
    "\n",
    "\n",
    "Search for double-beta neutrino-less decay, bb0nu, in 136Xe, using mock detector data. \n",
    "\n",
    "This analysis is a template of a rare search analisis.\n",
    "\n",
    "In the process we follow most of the steps of the data analysis as in a HEP experimental collaboration.\n"
   ]
  },
  {
   "cell_type": "markdown",
   "metadata": {},
   "source": [
    "### Dynamic\n",
    "\n",
    "We form groups (collaborations). \n",
    "\n",
    "Each collaboration have a set of data corresponding to different detector parameters: background index, energy resolution and exposure. \n",
    "\n",
    "Each collaboration performs its data analysis and present its results. \n",
    "\n",
    "Collaboration members must share the different tasks. Adecuate credits should be given to the authors.\n",
    "\n",
    "A simple cut based analysis, 'fanal', is provided as a guideline.\n",
    "\n",
    "Prior technical knowledge of Python and the modules numpy, padas, scipy and matplotlib is required.\n",
    "\n",
    "Code examples of histogram, fits are provided."
   ]
  },
  {
   "cell_type": "markdown",
   "metadata": {},
   "source": [
    "### Tasks\n",
    "\n",
    "Note that the links are associated to Notebooks. \n",
    "\n",
    "In guide folder you will find a Notebooks with an example of the analysis. \n",
    "You can use that code and improve the methods.\n",
    "\n",
    "These are the tasks in order:\n"
   ]
  },
  {
   "cell_type": "markdown",
   "metadata": {},
   "source": [
    "\n",
    "   * [Define the bb0nu search strategy using simulated (MC) data](./fanal_def.ipynb). [NB Guide](./guide/fanal_def.ipynb)\n",
    "   \n",
    "       - Inspect the different variables for signal and background\n",
    "       \n",
    "       - Define a signal selection to reduce the background and enhance the signal content.\n",
    "       \n",
    "       - Estimate the energy resolution and define a Region of Interest (RoI) for the bb0nu search.\n",
    "       \n",
    "       - Estimate the number of signal and background events in RoI."
   ]
  },
  {
   "cell_type": "markdown",
   "metadata": {},
   "source": [
    "\n",
    "   * [Calibrate the detector](./fanal_cal.ipynb). [NB guide](./guide/fanal_cal.ipynb)\n",
    "   \n",
    "      * Estimate the energy resolution and energy scale using different peaks of Tl calibration data. \n",
    "       \n",
    "      * Correct the MC if needed.\n",
    "\n"
   ]
  },
  {
   "cell_type": "markdown",
   "metadata": {},
   "source": [
    "   * [Estimate the background contamination using blind-data](./fanal_bkg.ipynb). [NB guide](./guide/fanal_bkg.ipynb)\n",
    "   \n",
    "     * Estimate the level background contamination (number of Bi, Tl events) with blind-data\n",
    "     \n",
    "     * Estimate uncertantines\n",
    "     \n",
    "     "
   ]
  },
  {
   "cell_type": "markdown",
   "metadata": {},
   "source": [
    "   * [Validate the bb0nu strategy with mc-experiments compatibles with the blinb-data](./fanal_signal.ipynb)\n",
    "   .[NB guide](./guide/fanal_signal.ipynb)\n",
    "     * Define a method to estimate the number of bb0nu. Ensure its performance. \n",
    "     \n",
    "     * Estimate the sensitiviy of the experiment to measure bb0nu.\n",
    "     "
   ]
  },
  {
   "cell_type": "markdown",
   "metadata": {},
   "source": [
    "   * [Estimate the half-life  (measure or limit) using data](./fanal_data.ipynb). [NB guide](./guide/fanal_data.ipynb)  \n",
    "   \n",
    "     * Estimate the number of events\n",
    "     \n",
    "     * Estimate (or set a limit on) the half-life. \n",
    "     \n",
    "     * Revisit critically the analysis."
   ]
  },
  {
   "cell_type": "markdown",
   "metadata": {},
   "source": [
    "   * Publish the results\n",
    "    \n",
    "       * Prepare a presentation for a 'conference',\n",
    "        \n",
    "       * Write an 'scientic article'. \n",
    "       "
   ]
  },
  {
   "cell_type": "markdown",
   "metadata": {},
   "source": [
    "   * Review and critizise the results of other collaborations.\n",
    "   \n",
    "       * Carefuly study the article from a competitor collaboration.\n",
    "       \n",
    "       * Formulate comments and questions."
   ]
  },
  {
   "cell_type": "markdown",
   "metadata": {},
   "source": [
    "   * Desing an upgraded detector\n",
    "   \n",
    "       * Identify the weak points of the detector.\n",
    "       \n",
    "       * Design a detector upgrade and calculate its impact."
   ]
  },
  {
   "cell_type": "markdown",
   "metadata": {},
   "source": [
    "## Indications\n",
    "\n",
    "Get access to these Jypyter-Notebooks and some analysis code at [jahernando/USC-Fanal](https://github.com/jahernando/USC-Fanal)\n",
    "\n",
    "The data file (HDF5) contains simulation data (MC) for the bb0nu signal and the 214Bi and 208Tl backgrounds, and the mock detector data (obtained also from simulation). Data is stored in panda DataFrame objects.\n",
    "\n",
    "We perform a blind-analysis. Data is separated in blind-data, data without events in the RoI; and data in the RoI. \n",
    "\n",
    "To avoid humas bias, the analysis should be designed and tested on MC and blind-data, only when the analysis is complete and 'frozen' can it be applied to the data in RoI. No re-visit of the analysis is allowed."
   ]
  },
  {
   "cell_type": "markdown",
   "metadata": {},
   "source": [
    "Each DataFrame (DF) contains a list of events. Each event has a list variables with event information.\n",
    "\n",
    "Among the variables are the total energy measured by the event 'E', the energy of the most energetic track in MeV, 'track0_E'; the number of tracks 'num_tracks'; the number of voxels (hits) of a track, 'num_voxels'; the energy of the extreme (end-point) of the most energetic track in keV ('blob1_E', 'blob2_E'). "
   ]
  },
  {
   "cell_type": "markdown",
   "metadata": {},
   "source": [
    "The 'fanal' analysis was proposed by J. Martí-Albo and J. Muñoz. It selects events in an energy range (2.4, 2.7) MeV, with only one track and with an energy in the second blob (less energetic blob) above 400 keV. Then it redefines a smaller RoI window. Consider this analysis as a guideline.\n",
    "\n",
    "There are examples also to do a Extended Likelihood Fit to estimate from a distribution, energy in this case, the number of events of different samples, (bb0nu, Tl, Bi). \n",
    "\n",
    "This data has been obtained with NEXT collaboration code, NEXUS, that uses Geant4. It is still a beta version, it can have errors. \n",
    "\n",
    "Mock data has been modified for the different detectors, and do not correspond to NEXT capabilities."
   ]
  },
  {
   "cell_type": "markdown",
   "metadata": {},
   "source": [
    "## Information\n",
    "\n",
    "The 136Xe Qbb is 3.458 MeV, the relevant dangerous gammas are at 2.447 MeV (214Bi) and at 2.615 MeV (208Tl). Other higher and lower energy gammas of both isotopes are simulated too. Compton scattering, Bremsstrahlung and the emission of a 130Xe X-ray (30 keV) can result in lower detector energies. \n",
    "\n",
    "The detector of this exercise have topological capabilites. One measures tracks and estimate the energy deposition at its extremes (blobs). An electron has larger deposition at its end, while a double-beta, double-electron track, has similar energies in both ends. \n",
    "\n",
    "Be aware also of detector effects, for example reconstruction features can split a track or glue segments together. \n",
    "\n",
    "Assume that 136Xe is enriched at 90% and the Atomic weight of 136Xe is 136 g/mol."
   ]
  },
  {
   "cell_type": "markdown",
   "metadata": {},
   "source": [
    "## Mock Data"
   ]
  },
  {
   "cell_type": "markdown",
   "metadata": {},
   "source": [
    "Different Detectors Data:\n",
    "    \n",
    "   * alpha: Data exposure 500 kg y, good resolution, good background index\n",
    "    \n",
    "   * beta: Data exposure 500 kg y, good resolution, good background index\n",
    "    \n",
    "   * gamma: Data exposure 5 ton y, acceptable resolution, good background index\n",
    "    \n",
    "   * eta: Data exposure 1 ton y, good resolution, good background index"
   ]
  },
  {
   "cell_type": "markdown",
   "metadata": {},
   "source": [
    "## Utils"
   ]
  },
  {
   "cell_type": "markdown",
   "metadata": {},
   "source": [
    "## References\n",
    "\n",
    "\n",
    "  [1] [NEXT web page](https://next.ific.uv.es/next/)\n",
    "  \n",
    "  [2] The NEXT Collaboration (J. Martín-Albo et al.), Sensitivity of NEXT-100 to neutrinoless double beta decay, [JHEP 1605 (2016) 159.](https://link.springer.com/article/10.1007/JHEP05(2016)159)"
   ]
  },
  {
   "cell_type": "code",
   "execution_count": null,
   "metadata": {},
   "outputs": [],
   "source": []
  }
 ],
 "metadata": {
  "kernelspec": {
   "display_name": "Python 3",
   "language": "python",
   "name": "python3"
  },
  "language_info": {
   "codemirror_mode": {
    "name": "ipython",
    "version": 3
   },
   "file_extension": ".py",
   "mimetype": "text/x-python",
   "name": "python",
   "nbconvert_exporter": "python",
   "pygments_lexer": "ipython3",
   "version": "3.7.9"
  }
 },
 "nbformat": 4,
 "nbformat_minor": 2
}
